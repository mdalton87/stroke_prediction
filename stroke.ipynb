{
 "cells": [
  {
   "cell_type": "markdown",
   "metadata": {},
   "source": [
    "# Context\n",
    "According to the World Health Organization (WHO) stroke is the 2nd leading cause of death globally, responsible for approximately 11% of total deaths.\n",
    "This dataset is used to predict whether a patient is likely to get stroke based on the input parameters like gender, age, various diseases, and smoking status. Each row in the data provides relavant information about the patient.\n",
    "\n",
    "# Attribute Information\n",
    "1. id: unique identifier\n",
    "2. gender: \"Male\", \"Female\" or \"Other\"\n",
    "3. age: age of the patient\n",
    "4. hypertension: 0 if the patient doesn't have hypertension, 1 if the patient has hypertension\n",
    "5. heart_disease: 0 if the patient doesn't have any heart diseases, 1 if the patient has a heart disease\n",
    "6. ever_married: \"No\" or \"Yes\"\n",
    "7. work_type: \"children\", \"Govt_jov\", \"Never_worked\", \"Private\" or \"Self-employed\"\n",
    "8. Residence_type: \"Rural\" or \"Urban\"\n",
    "9. avg_glucose_level: average glucose level in blood\n",
    "10. bmi: body mass index\n",
    "11. smoking_status: \"formerly smoked\", \"never smoked\", \"smokes\" or \"Unknown\"*\n",
    "12. stroke: 1 if the patient had a stroke or 0 if not\n",
    "*Note: \"Unknown\" in smoking_status means that the information is unavailable for this patient\n",
    "\n",
    "### Acknowledgements\n",
    "(Confidential Source) - Use only for educational purposes\n",
    "If you use this dataset in your research, please credit the author.\n",
    "\n",
    "Other Datasets\n",
    "Hepatitis C Dataset: LINK"
   ]
  },
  {
   "cell_type": "code",
   "execution_count": 1,
   "metadata": {},
   "outputs": [],
   "source": [
    "# ignore warnings\n",
    "import warnings\n",
    "warnings.filterwarnings(\"ignore\")\n",
    "\n",
    "# Data getting, cleaning, and exploring\n",
    "import wrangle as w\n",
    "import explore as ex\n",
    "\n",
    "# Python without these is hard\n",
    "import pandas as pd\n",
    "import numpy as np\n",
    "from scipy import stats\n",
    "\n",
    "# Machine Learning\n",
    "from sklearn.model_selection import train_test_split\n",
    "from sklearn.metrics import confusion_matrix\n",
    "import sklearn.preprocessing\n",
    "from sklearn.preprocessing import MinMaxScaler \n",
    "from sklearn.impute import SimpleImputer, KNNImputer\n",
    "\n",
    "# Regression Modeling\n",
    "from sklearn.metrics import mean_squared_error,r2_score\n",
    "from sklearn.linear_model import LinearRegression, LassoLars, TweedieRegressor\n",
    "from sklearn.preprocessing import PolynomialFeatures\n",
    "\n",
    "# Classification Modeling\n",
    "from sklearn.tree import DecisionTreeClassifier\n",
    "from sklearn.neighbors import KNeighborsClassifier\n",
    "from sklearn.metrics import classification_report\n",
    "from sklearn.metrics import confusion_matrix\n",
    "from sklearn.ensemble import RandomForestClassifier\n",
    "from sklearn.linear_model import LogisticRegression\n",
    "\n",
    "\n",
    "# Visualization\n",
    "import matplotlib.pyplot as plt\n",
    "%matplotlib inline\n",
    "import seaborn as sns\n",
    "from sklearn.tree import export_graphviz"
   ]
  },
  {
   "cell_type": "markdown",
   "metadata": {},
   "source": [
    "### Hypotheses:\n",
    "\n",
    "- Heart disease will be a driver of stroke\n",
    "- Decision tree will be my best model due to the large amount of binary features\n",
    "- Age will be a significant factor of my model\n"
   ]
  },
  {
   "cell_type": "code",
   "execution_count": 2,
   "metadata": {},
   "outputs": [],
   "source": [
    "df = pd.read_csv('healthcare-dataset-stroke-data.csv')"
   ]
  },
  {
   "cell_type": "code",
   "execution_count": 3,
   "metadata": {},
   "outputs": [
    {
     "data": {
      "text/plain": [
       "Index(['id', 'gender', 'age', 'hypertension', 'heart_disease', 'ever_married',\n",
       "       'work_type', 'Residence_type', 'avg_glucose_level', 'bmi',\n",
       "       'smoking_status', 'stroke'],\n",
       "      dtype='object')"
      ]
     },
     "execution_count": 3,
     "metadata": {},
     "output_type": "execute_result"
    }
   ],
   "source": [
    "df.columns"
   ]
  },
  {
   "cell_type": "code",
   "execution_count": 4,
   "metadata": {},
   "outputs": [
    {
     "name": "stdout",
     "output_type": "stream",
     "text": [
      "Your selected dataframe has 12 columns and 5110 Rows.\n",
      "There are 1 columns that have NULL values.\n"
     ]
    },
    {
     "data": {
      "text/html": [
       "<div>\n",
       "<style scoped>\n",
       "    .dataframe tbody tr th:only-of-type {\n",
       "        vertical-align: middle;\n",
       "    }\n",
       "\n",
       "    .dataframe tbody tr th {\n",
       "        vertical-align: top;\n",
       "    }\n",
       "\n",
       "    .dataframe thead th {\n",
       "        text-align: right;\n",
       "    }\n",
       "</style>\n",
       "<table border=\"1\" class=\"dataframe\">\n",
       "  <thead>\n",
       "    <tr style=\"text-align: right;\">\n",
       "      <th></th>\n",
       "      <th>Zero Values</th>\n",
       "      <th>NULL Values</th>\n",
       "      <th>% of Total NULL Values</th>\n",
       "      <th>Total Zero's plus NULL Values</th>\n",
       "      <th>% Total Zero's plus NULL Values</th>\n",
       "      <th>Data Type</th>\n",
       "    </tr>\n",
       "  </thead>\n",
       "  <tbody>\n",
       "    <tr>\n",
       "      <th>bmi</th>\n",
       "      <td>0</td>\n",
       "      <td>201</td>\n",
       "      <td>3.9</td>\n",
       "      <td>201</td>\n",
       "      <td>3.9</td>\n",
       "      <td>float64</td>\n",
       "    </tr>\n",
       "    <tr>\n",
       "      <th>id</th>\n",
       "      <td>0</td>\n",
       "      <td>0</td>\n",
       "      <td>0.0</td>\n",
       "      <td>0</td>\n",
       "      <td>0.0</td>\n",
       "      <td>int64</td>\n",
       "    </tr>\n",
       "    <tr>\n",
       "      <th>gender</th>\n",
       "      <td>0</td>\n",
       "      <td>0</td>\n",
       "      <td>0.0</td>\n",
       "      <td>0</td>\n",
       "      <td>0.0</td>\n",
       "      <td>object</td>\n",
       "    </tr>\n",
       "    <tr>\n",
       "      <th>age</th>\n",
       "      <td>0</td>\n",
       "      <td>0</td>\n",
       "      <td>0.0</td>\n",
       "      <td>0</td>\n",
       "      <td>0.0</td>\n",
       "      <td>float64</td>\n",
       "    </tr>\n",
       "    <tr>\n",
       "      <th>hypertension</th>\n",
       "      <td>4612</td>\n",
       "      <td>0</td>\n",
       "      <td>0.0</td>\n",
       "      <td>4612</td>\n",
       "      <td>90.3</td>\n",
       "      <td>int64</td>\n",
       "    </tr>\n",
       "    <tr>\n",
       "      <th>heart_disease</th>\n",
       "      <td>4834</td>\n",
       "      <td>0</td>\n",
       "      <td>0.0</td>\n",
       "      <td>4834</td>\n",
       "      <td>94.6</td>\n",
       "      <td>int64</td>\n",
       "    </tr>\n",
       "    <tr>\n",
       "      <th>ever_married</th>\n",
       "      <td>0</td>\n",
       "      <td>0</td>\n",
       "      <td>0.0</td>\n",
       "      <td>0</td>\n",
       "      <td>0.0</td>\n",
       "      <td>object</td>\n",
       "    </tr>\n",
       "    <tr>\n",
       "      <th>work_type</th>\n",
       "      <td>0</td>\n",
       "      <td>0</td>\n",
       "      <td>0.0</td>\n",
       "      <td>0</td>\n",
       "      <td>0.0</td>\n",
       "      <td>object</td>\n",
       "    </tr>\n",
       "    <tr>\n",
       "      <th>Residence_type</th>\n",
       "      <td>0</td>\n",
       "      <td>0</td>\n",
       "      <td>0.0</td>\n",
       "      <td>0</td>\n",
       "      <td>0.0</td>\n",
       "      <td>object</td>\n",
       "    </tr>\n",
       "    <tr>\n",
       "      <th>avg_glucose_level</th>\n",
       "      <td>0</td>\n",
       "      <td>0</td>\n",
       "      <td>0.0</td>\n",
       "      <td>0</td>\n",
       "      <td>0.0</td>\n",
       "      <td>float64</td>\n",
       "    </tr>\n",
       "    <tr>\n",
       "      <th>smoking_status</th>\n",
       "      <td>0</td>\n",
       "      <td>0</td>\n",
       "      <td>0.0</td>\n",
       "      <td>0</td>\n",
       "      <td>0.0</td>\n",
       "      <td>object</td>\n",
       "    </tr>\n",
       "    <tr>\n",
       "      <th>stroke</th>\n",
       "      <td>4861</td>\n",
       "      <td>0</td>\n",
       "      <td>0.0</td>\n",
       "      <td>4861</td>\n",
       "      <td>95.1</td>\n",
       "      <td>int64</td>\n",
       "    </tr>\n",
       "  </tbody>\n",
       "</table>\n",
       "</div>"
      ],
      "text/plain": [
       "                   Zero Values  NULL Values  % of Total NULL Values  \\\n",
       "bmi                          0          201                     3.9   \n",
       "id                           0            0                     0.0   \n",
       "gender                       0            0                     0.0   \n",
       "age                          0            0                     0.0   \n",
       "hypertension              4612            0                     0.0   \n",
       "heart_disease             4834            0                     0.0   \n",
       "ever_married                 0            0                     0.0   \n",
       "work_type                    0            0                     0.0   \n",
       "Residence_type               0            0                     0.0   \n",
       "avg_glucose_level            0            0                     0.0   \n",
       "smoking_status               0            0                     0.0   \n",
       "stroke                    4861            0                     0.0   \n",
       "\n",
       "                   Total Zero's plus NULL Values  \\\n",
       "bmi                                          201   \n",
       "id                                             0   \n",
       "gender                                         0   \n",
       "age                                            0   \n",
       "hypertension                                4612   \n",
       "heart_disease                               4834   \n",
       "ever_married                                   0   \n",
       "work_type                                      0   \n",
       "Residence_type                                 0   \n",
       "avg_glucose_level                              0   \n",
       "smoking_status                                 0   \n",
       "stroke                                      4861   \n",
       "\n",
       "                   % Total Zero's plus NULL Values Data Type  \n",
       "bmi                                            3.9   float64  \n",
       "id                                             0.0     int64  \n",
       "gender                                         0.0    object  \n",
       "age                                            0.0   float64  \n",
       "hypertension                                  90.3     int64  \n",
       "heart_disease                                 94.6     int64  \n",
       "ever_married                                   0.0    object  \n",
       "work_type                                      0.0    object  \n",
       "Residence_type                                 0.0    object  \n",
       "avg_glucose_level                              0.0   float64  \n",
       "smoking_status                                 0.0    object  \n",
       "stroke                                        95.1     int64  "
      ]
     },
     "execution_count": 4,
     "metadata": {},
     "output_type": "execute_result"
    }
   ],
   "source": [
    "w.missing_zero_values_table(df)"
   ]
  },
  {
   "cell_type": "code",
   "execution_count": 5,
   "metadata": {},
   "outputs": [],
   "source": [
    "df.set_index('id', inplace=True)"
   ]
  },
  {
   "cell_type": "code",
   "execution_count": 6,
   "metadata": {},
   "outputs": [
    {
     "name": "stdout",
     "output_type": "stream",
     "text": [
      "<class 'pandas.core.frame.DataFrame'>\n",
      "Int64Index: 5110 entries, 9046 to 44679\n",
      "Data columns (total 11 columns):\n",
      " #   Column             Non-Null Count  Dtype  \n",
      "---  ------             --------------  -----  \n",
      " 0   gender             5110 non-null   object \n",
      " 1   age                5110 non-null   float64\n",
      " 2   hypertension       5110 non-null   int64  \n",
      " 3   heart_disease      5110 non-null   int64  \n",
      " 4   ever_married       5110 non-null   object \n",
      " 5   work_type          5110 non-null   object \n",
      " 6   Residence_type     5110 non-null   object \n",
      " 7   avg_glucose_level  5110 non-null   float64\n",
      " 8   bmi                4909 non-null   float64\n",
      " 9   smoking_status     5110 non-null   object \n",
      " 10  stroke             5110 non-null   int64  \n",
      "dtypes: float64(3), int64(3), object(5)\n",
      "memory usage: 479.1+ KB\n"
     ]
    }
   ],
   "source": [
    "df.info()"
   ]
  },
  {
   "cell_type": "code",
   "execution_count": 7,
   "metadata": {},
   "outputs": [
    {
     "data": {
      "text/html": [
       "<div>\n",
       "<style scoped>\n",
       "    .dataframe tbody tr th:only-of-type {\n",
       "        vertical-align: middle;\n",
       "    }\n",
       "\n",
       "    .dataframe tbody tr th {\n",
       "        vertical-align: top;\n",
       "    }\n",
       "\n",
       "    .dataframe thead th {\n",
       "        text-align: right;\n",
       "    }\n",
       "</style>\n",
       "<table border=\"1\" class=\"dataframe\">\n",
       "  <thead>\n",
       "    <tr style=\"text-align: right;\">\n",
       "      <th></th>\n",
       "      <th>gender</th>\n",
       "      <th>age</th>\n",
       "      <th>hypertension</th>\n",
       "      <th>heart_disease</th>\n",
       "      <th>ever_married</th>\n",
       "      <th>work_type</th>\n",
       "      <th>Residence_type</th>\n",
       "      <th>avg_glucose_level</th>\n",
       "      <th>bmi</th>\n",
       "      <th>smoking_status</th>\n",
       "      <th>stroke</th>\n",
       "    </tr>\n",
       "    <tr>\n",
       "      <th>id</th>\n",
       "      <th></th>\n",
       "      <th></th>\n",
       "      <th></th>\n",
       "      <th></th>\n",
       "      <th></th>\n",
       "      <th></th>\n",
       "      <th></th>\n",
       "      <th></th>\n",
       "      <th></th>\n",
       "      <th></th>\n",
       "      <th></th>\n",
       "    </tr>\n",
       "  </thead>\n",
       "  <tbody>\n",
       "    <tr>\n",
       "      <th>9046</th>\n",
       "      <td>Male</td>\n",
       "      <td>67.0</td>\n",
       "      <td>0</td>\n",
       "      <td>1</td>\n",
       "      <td>Yes</td>\n",
       "      <td>Private</td>\n",
       "      <td>Urban</td>\n",
       "      <td>228.69</td>\n",
       "      <td>36.6</td>\n",
       "      <td>formerly smoked</td>\n",
       "      <td>1</td>\n",
       "    </tr>\n",
       "    <tr>\n",
       "      <th>51676</th>\n",
       "      <td>Female</td>\n",
       "      <td>61.0</td>\n",
       "      <td>0</td>\n",
       "      <td>0</td>\n",
       "      <td>Yes</td>\n",
       "      <td>Self-employed</td>\n",
       "      <td>Rural</td>\n",
       "      <td>202.21</td>\n",
       "      <td>NaN</td>\n",
       "      <td>never smoked</td>\n",
       "      <td>1</td>\n",
       "    </tr>\n",
       "    <tr>\n",
       "      <th>31112</th>\n",
       "      <td>Male</td>\n",
       "      <td>80.0</td>\n",
       "      <td>0</td>\n",
       "      <td>1</td>\n",
       "      <td>Yes</td>\n",
       "      <td>Private</td>\n",
       "      <td>Rural</td>\n",
       "      <td>105.92</td>\n",
       "      <td>32.5</td>\n",
       "      <td>never smoked</td>\n",
       "      <td>1</td>\n",
       "    </tr>\n",
       "    <tr>\n",
       "      <th>60182</th>\n",
       "      <td>Female</td>\n",
       "      <td>49.0</td>\n",
       "      <td>0</td>\n",
       "      <td>0</td>\n",
       "      <td>Yes</td>\n",
       "      <td>Private</td>\n",
       "      <td>Urban</td>\n",
       "      <td>171.23</td>\n",
       "      <td>34.4</td>\n",
       "      <td>smokes</td>\n",
       "      <td>1</td>\n",
       "    </tr>\n",
       "    <tr>\n",
       "      <th>1665</th>\n",
       "      <td>Female</td>\n",
       "      <td>79.0</td>\n",
       "      <td>1</td>\n",
       "      <td>0</td>\n",
       "      <td>Yes</td>\n",
       "      <td>Self-employed</td>\n",
       "      <td>Rural</td>\n",
       "      <td>174.12</td>\n",
       "      <td>24.0</td>\n",
       "      <td>never smoked</td>\n",
       "      <td>1</td>\n",
       "    </tr>\n",
       "  </tbody>\n",
       "</table>\n",
       "</div>"
      ],
      "text/plain": [
       "       gender   age  hypertension  heart_disease ever_married      work_type  \\\n",
       "id                                                                             \n",
       "9046     Male  67.0             0              1          Yes        Private   \n",
       "51676  Female  61.0             0              0          Yes  Self-employed   \n",
       "31112    Male  80.0             0              1          Yes        Private   \n",
       "60182  Female  49.0             0              0          Yes        Private   \n",
       "1665   Female  79.0             1              0          Yes  Self-employed   \n",
       "\n",
       "      Residence_type  avg_glucose_level   bmi   smoking_status  stroke  \n",
       "id                                                                      \n",
       "9046           Urban             228.69  36.6  formerly smoked       1  \n",
       "51676          Rural             202.21   NaN     never smoked       1  \n",
       "31112          Rural             105.92  32.5     never smoked       1  \n",
       "60182          Urban             171.23  34.4           smokes       1  \n",
       "1665           Rural             174.12  24.0     never smoked       1  "
      ]
     },
     "execution_count": 7,
     "metadata": {},
     "output_type": "execute_result"
    }
   ],
   "source": [
    "df.head()"
   ]
  },
  {
   "cell_type": "code",
   "execution_count": 8,
   "metadata": {},
   "outputs": [
    {
     "data": {
      "text/plain": [
       "never smoked       1892\n",
       "Unknown            1544\n",
       "formerly smoked     885\n",
       "smokes              789\n",
       "Name: smoking_status, dtype: int64"
      ]
     },
     "execution_count": 8,
     "metadata": {},
     "output_type": "execute_result"
    }
   ],
   "source": [
    "df.smoking_status.value_counts()"
   ]
  },
  {
   "cell_type": "markdown",
   "metadata": {},
   "source": [
    "# Wrangle notes:\n",
    "### Changes to df:\n",
    "- ever_married to binary \n",
    "- dummy Residence_type\n",
    "- Current smokers feature \n",
    "    - impute mode for unknown\n",
    "- dummy gender\n",
    "\n",
    "\n"
   ]
  },
  {
   "cell_type": "code",
   "execution_count": 9,
   "metadata": {},
   "outputs": [],
   "source": [
    "# converted ever_married into binary feature\n",
    "df.ever_married = df.ever_married.replace('Yes', 1).replace('No', 0)"
   ]
  },
  {
   "cell_type": "code",
   "execution_count": 10,
   "metadata": {},
   "outputs": [],
   "source": [
    "# imputed mode - replacing \"Unknown\" with \"never smoked\"\n",
    "df.smoking_status = df.smoking_status.replace('Unknown', 'never smoked')"
   ]
  },
  {
   "cell_type": "code",
   "execution_count": 11,
   "metadata": {},
   "outputs": [],
   "source": [
    "# creating dummy variables for Residence_type\n",
    "dummy_df = pd.get_dummies(df['Residence_type'], drop_first=False)\n",
    "\n",
    "#rename dummy cols\n",
    "dummy_df.columns = ['rural_residence', 'urban_residence']\n",
    "\n",
    "# merge data frames togeter\n",
    "df = pd.concat([df, dummy_df], axis= 1)\n",
    "\n",
    "# drop \"Residence_type\" column\n",
    "df.drop(columns=['Residence_type'], inplace=True)"
   ]
  },
  {
   "cell_type": "code",
   "execution_count": 12,
   "metadata": {},
   "outputs": [],
   "source": [
    "# creating dummy variables for Residence_type\n",
    "dummy_df = pd.get_dummies(df['gender'], drop_first=False)\n",
    "\n",
    "# #rename dummy cols\n",
    "dummy_df.columns = ['is_female', 'is_male', 'other']\n",
    "\n",
    "# # merge data frames togeter\n",
    "df = pd.concat([df, dummy_df], axis= 1)\n",
    "\n",
    "# # drop \"Residence_type\" column\n",
    "df.drop(columns=['gender','other'], inplace=True)"
   ]
  },
  {
   "cell_type": "code",
   "execution_count": 13,
   "metadata": {},
   "outputs": [
    {
     "data": {
      "text/plain": [
       "count    5110.000000\n",
       "mean      106.147677\n",
       "std        45.283560\n",
       "min        55.120000\n",
       "25%        77.245000\n",
       "50%        91.885000\n",
       "75%       114.090000\n",
       "max       271.740000\n",
       "Name: avg_glucose_level, dtype: float64"
      ]
     },
     "execution_count": 13,
     "metadata": {},
     "output_type": "execute_result"
    }
   ],
   "source": [
    "df.avg_glucose_level.describe().T"
   ]
  },
  {
   "cell_type": "code",
   "execution_count": 14,
   "metadata": {},
   "outputs": [],
   "source": [
    "df['age_bin'] = pd.cut(df['age'], \n",
    "                          bins = [0, 10, 20, 30, 40, 50, 60, 70, 80, 90],\n",
    "                          labels = [0.0, 0.1, 0.2, 0.3, 0.4, 0.5, 0.6, 0.7, 0.8])"
   ]
  },
  {
   "cell_type": "code",
   "execution_count": 15,
   "metadata": {},
   "outputs": [],
   "source": [
    "df['gluc_bin'] = pd.cut(df['avg_glucose_level'], \n",
    "                          bins = [50, 100, 150, 200, 250, 300],\n",
    "                          labels = [50, 100, 150, 200, 250])"
   ]
  },
  {
   "cell_type": "code",
   "execution_count": 16,
   "metadata": {},
   "outputs": [
    {
     "data": {
      "text/html": [
       "<div>\n",
       "<style scoped>\n",
       "    .dataframe tbody tr th:only-of-type {\n",
       "        vertical-align: middle;\n",
       "    }\n",
       "\n",
       "    .dataframe tbody tr th {\n",
       "        vertical-align: top;\n",
       "    }\n",
       "\n",
       "    .dataframe thead th {\n",
       "        text-align: right;\n",
       "    }\n",
       "</style>\n",
       "<table border=\"1\" class=\"dataframe\">\n",
       "  <thead>\n",
       "    <tr style=\"text-align: right;\">\n",
       "      <th></th>\n",
       "      <th>age</th>\n",
       "      <th>hypertension</th>\n",
       "      <th>heart_disease</th>\n",
       "      <th>ever_married</th>\n",
       "      <th>work_type</th>\n",
       "      <th>avg_glucose_level</th>\n",
       "      <th>bmi</th>\n",
       "      <th>smoking_status</th>\n",
       "      <th>stroke</th>\n",
       "      <th>rural_residence</th>\n",
       "      <th>urban_residence</th>\n",
       "      <th>is_female</th>\n",
       "      <th>is_male</th>\n",
       "      <th>age_bin</th>\n",
       "      <th>gluc_bin</th>\n",
       "    </tr>\n",
       "    <tr>\n",
       "      <th>id</th>\n",
       "      <th></th>\n",
       "      <th></th>\n",
       "      <th></th>\n",
       "      <th></th>\n",
       "      <th></th>\n",
       "      <th></th>\n",
       "      <th></th>\n",
       "      <th></th>\n",
       "      <th></th>\n",
       "      <th></th>\n",
       "      <th></th>\n",
       "      <th></th>\n",
       "      <th></th>\n",
       "      <th></th>\n",
       "      <th></th>\n",
       "    </tr>\n",
       "  </thead>\n",
       "  <tbody>\n",
       "    <tr>\n",
       "      <th>9046</th>\n",
       "      <td>67.0</td>\n",
       "      <td>0</td>\n",
       "      <td>1</td>\n",
       "      <td>1</td>\n",
       "      <td>Private</td>\n",
       "      <td>228.69</td>\n",
       "      <td>36.600</td>\n",
       "      <td>formerly smoked</td>\n",
       "      <td>1</td>\n",
       "      <td>0</td>\n",
       "      <td>1</td>\n",
       "      <td>0</td>\n",
       "      <td>1</td>\n",
       "      <td>0.6</td>\n",
       "      <td>200</td>\n",
       "    </tr>\n",
       "    <tr>\n",
       "      <th>51676</th>\n",
       "      <td>61.0</td>\n",
       "      <td>0</td>\n",
       "      <td>0</td>\n",
       "      <td>1</td>\n",
       "      <td>Self-employed</td>\n",
       "      <td>202.21</td>\n",
       "      <td>32.225</td>\n",
       "      <td>never smoked</td>\n",
       "      <td>1</td>\n",
       "      <td>1</td>\n",
       "      <td>0</td>\n",
       "      <td>1</td>\n",
       "      <td>0</td>\n",
       "      <td>0.6</td>\n",
       "      <td>200</td>\n",
       "    </tr>\n",
       "    <tr>\n",
       "      <th>31112</th>\n",
       "      <td>80.0</td>\n",
       "      <td>0</td>\n",
       "      <td>1</td>\n",
       "      <td>1</td>\n",
       "      <td>Private</td>\n",
       "      <td>105.92</td>\n",
       "      <td>32.500</td>\n",
       "      <td>never smoked</td>\n",
       "      <td>1</td>\n",
       "      <td>1</td>\n",
       "      <td>0</td>\n",
       "      <td>0</td>\n",
       "      <td>1</td>\n",
       "      <td>0.7</td>\n",
       "      <td>100</td>\n",
       "    </tr>\n",
       "    <tr>\n",
       "      <th>60182</th>\n",
       "      <td>49.0</td>\n",
       "      <td>0</td>\n",
       "      <td>0</td>\n",
       "      <td>1</td>\n",
       "      <td>Private</td>\n",
       "      <td>171.23</td>\n",
       "      <td>34.400</td>\n",
       "      <td>smokes</td>\n",
       "      <td>1</td>\n",
       "      <td>0</td>\n",
       "      <td>1</td>\n",
       "      <td>1</td>\n",
       "      <td>0</td>\n",
       "      <td>0.4</td>\n",
       "      <td>150</td>\n",
       "    </tr>\n",
       "    <tr>\n",
       "      <th>1665</th>\n",
       "      <td>79.0</td>\n",
       "      <td>1</td>\n",
       "      <td>0</td>\n",
       "      <td>1</td>\n",
       "      <td>Self-employed</td>\n",
       "      <td>174.12</td>\n",
       "      <td>24.000</td>\n",
       "      <td>never smoked</td>\n",
       "      <td>1</td>\n",
       "      <td>1</td>\n",
       "      <td>0</td>\n",
       "      <td>1</td>\n",
       "      <td>0</td>\n",
       "      <td>0.7</td>\n",
       "      <td>150</td>\n",
       "    </tr>\n",
       "    <tr>\n",
       "      <th>...</th>\n",
       "      <td>...</td>\n",
       "      <td>...</td>\n",
       "      <td>...</td>\n",
       "      <td>...</td>\n",
       "      <td>...</td>\n",
       "      <td>...</td>\n",
       "      <td>...</td>\n",
       "      <td>...</td>\n",
       "      <td>...</td>\n",
       "      <td>...</td>\n",
       "      <td>...</td>\n",
       "      <td>...</td>\n",
       "      <td>...</td>\n",
       "      <td>...</td>\n",
       "      <td>...</td>\n",
       "    </tr>\n",
       "    <tr>\n",
       "      <th>18234</th>\n",
       "      <td>80.0</td>\n",
       "      <td>1</td>\n",
       "      <td>0</td>\n",
       "      <td>1</td>\n",
       "      <td>Private</td>\n",
       "      <td>83.75</td>\n",
       "      <td>26.725</td>\n",
       "      <td>never smoked</td>\n",
       "      <td>0</td>\n",
       "      <td>0</td>\n",
       "      <td>1</td>\n",
       "      <td>1</td>\n",
       "      <td>0</td>\n",
       "      <td>0.7</td>\n",
       "      <td>50</td>\n",
       "    </tr>\n",
       "    <tr>\n",
       "      <th>44873</th>\n",
       "      <td>81.0</td>\n",
       "      <td>0</td>\n",
       "      <td>0</td>\n",
       "      <td>1</td>\n",
       "      <td>Self-employed</td>\n",
       "      <td>125.20</td>\n",
       "      <td>40.000</td>\n",
       "      <td>never smoked</td>\n",
       "      <td>0</td>\n",
       "      <td>0</td>\n",
       "      <td>1</td>\n",
       "      <td>1</td>\n",
       "      <td>0</td>\n",
       "      <td>0.8</td>\n",
       "      <td>100</td>\n",
       "    </tr>\n",
       "    <tr>\n",
       "      <th>19723</th>\n",
       "      <td>35.0</td>\n",
       "      <td>0</td>\n",
       "      <td>0</td>\n",
       "      <td>1</td>\n",
       "      <td>Self-employed</td>\n",
       "      <td>82.99</td>\n",
       "      <td>30.600</td>\n",
       "      <td>never smoked</td>\n",
       "      <td>0</td>\n",
       "      <td>1</td>\n",
       "      <td>0</td>\n",
       "      <td>1</td>\n",
       "      <td>0</td>\n",
       "      <td>0.3</td>\n",
       "      <td>50</td>\n",
       "    </tr>\n",
       "    <tr>\n",
       "      <th>37544</th>\n",
       "      <td>51.0</td>\n",
       "      <td>0</td>\n",
       "      <td>0</td>\n",
       "      <td>1</td>\n",
       "      <td>Private</td>\n",
       "      <td>166.29</td>\n",
       "      <td>25.600</td>\n",
       "      <td>formerly smoked</td>\n",
       "      <td>0</td>\n",
       "      <td>1</td>\n",
       "      <td>0</td>\n",
       "      <td>0</td>\n",
       "      <td>1</td>\n",
       "      <td>0.5</td>\n",
       "      <td>150</td>\n",
       "    </tr>\n",
       "    <tr>\n",
       "      <th>44679</th>\n",
       "      <td>44.0</td>\n",
       "      <td>0</td>\n",
       "      <td>0</td>\n",
       "      <td>1</td>\n",
       "      <td>Govt_job</td>\n",
       "      <td>85.28</td>\n",
       "      <td>26.200</td>\n",
       "      <td>never smoked</td>\n",
       "      <td>0</td>\n",
       "      <td>0</td>\n",
       "      <td>1</td>\n",
       "      <td>1</td>\n",
       "      <td>0</td>\n",
       "      <td>0.4</td>\n",
       "      <td>50</td>\n",
       "    </tr>\n",
       "  </tbody>\n",
       "</table>\n",
       "<p>5110 rows × 15 columns</p>\n",
       "</div>"
      ],
      "text/plain": [
       "        age  hypertension  heart_disease  ever_married      work_type  \\\n",
       "id                                                                      \n",
       "9046   67.0             0              1             1        Private   \n",
       "51676  61.0             0              0             1  Self-employed   \n",
       "31112  80.0             0              1             1        Private   \n",
       "60182  49.0             0              0             1        Private   \n",
       "1665   79.0             1              0             1  Self-employed   \n",
       "...     ...           ...            ...           ...            ...   \n",
       "18234  80.0             1              0             1        Private   \n",
       "44873  81.0             0              0             1  Self-employed   \n",
       "19723  35.0             0              0             1  Self-employed   \n",
       "37544  51.0             0              0             1        Private   \n",
       "44679  44.0             0              0             1       Govt_job   \n",
       "\n",
       "       avg_glucose_level     bmi   smoking_status  stroke  rural_residence  \\\n",
       "id                                                                           \n",
       "9046              228.69  36.600  formerly smoked       1                0   \n",
       "51676             202.21  32.225     never smoked       1                1   \n",
       "31112             105.92  32.500     never smoked       1                1   \n",
       "60182             171.23  34.400           smokes       1                0   \n",
       "1665              174.12  24.000     never smoked       1                1   \n",
       "...                  ...     ...              ...     ...              ...   \n",
       "18234              83.75  26.725     never smoked       0                0   \n",
       "44873             125.20  40.000     never smoked       0                0   \n",
       "19723              82.99  30.600     never smoked       0                1   \n",
       "37544             166.29  25.600  formerly smoked       0                1   \n",
       "44679              85.28  26.200     never smoked       0                0   \n",
       "\n",
       "       urban_residence  is_female  is_male age_bin gluc_bin  \n",
       "id                                                           \n",
       "9046                 1          0        1     0.6      200  \n",
       "51676                0          1        0     0.6      200  \n",
       "31112                0          0        1     0.7      100  \n",
       "60182                1          1        0     0.4      150  \n",
       "1665                 0          1        0     0.7      150  \n",
       "...                ...        ...      ...     ...      ...  \n",
       "18234                1          1        0     0.7       50  \n",
       "44873                1          1        0     0.8      100  \n",
       "19723                0          1        0     0.3       50  \n",
       "37544                0          0        1     0.5      150  \n",
       "44679                1          1        0     0.4       50  \n",
       "\n",
       "[5110 rows x 15 columns]"
      ]
     },
     "execution_count": 16,
     "metadata": {},
     "output_type": "execute_result"
    }
   ],
   "source": [
    "# establish features to impute using knn \n",
    "features = ['bmi','age','avg_glucose_level','heart_disease','hypertension']\n",
    "\n",
    "# impute knn for bmi\n",
    "w.impute_knn(df, features, 4)"
   ]
  },
  {
   "cell_type": "code",
   "execution_count": 17,
   "metadata": {},
   "outputs": [
    {
     "data": {
      "text/plain": [
       "never smoked       3436\n",
       "formerly smoked     885\n",
       "smokes              789\n",
       "Name: smoking_status, dtype: int64"
      ]
     },
     "execution_count": 17,
     "metadata": {},
     "output_type": "execute_result"
    }
   ],
   "source": [
    "df.smoking_status.value_counts()"
   ]
  },
  {
   "cell_type": "code",
   "execution_count": 18,
   "metadata": {},
   "outputs": [],
   "source": [
    "df = df.assign(current_smoker = df.smoking_status == 'smokes')\n",
    "df.current_smoker = df.current_smoker.replace(True, 1).replace(False, 0).astype('int')"
   ]
  },
  {
   "cell_type": "code",
   "execution_count": 19,
   "metadata": {},
   "outputs": [],
   "source": [
    "quant_cols = ['age', 'bmi']\n",
    "bin_cols = ['hypertension','heart_disease','ever_married','rural_residence','urban_residence', 'current_smoker', 'is_female', 'is_male']\n",
    "target = 'stroke'\n",
    "cat_cols = ['work_type', 'smoking_status',]"
   ]
  },
  {
   "cell_type": "code",
   "execution_count": 20,
   "metadata": {},
   "outputs": [
    {
     "name": "stdout",
     "output_type": "stream",
     "text": [
      "Your selected dataframe has 16 columns and 5110 Rows.\n",
      "There are 0 columns that have NULL values.\n"
     ]
    },
    {
     "data": {
      "text/html": [
       "<div>\n",
       "<style scoped>\n",
       "    .dataframe tbody tr th:only-of-type {\n",
       "        vertical-align: middle;\n",
       "    }\n",
       "\n",
       "    .dataframe tbody tr th {\n",
       "        vertical-align: top;\n",
       "    }\n",
       "\n",
       "    .dataframe thead th {\n",
       "        text-align: right;\n",
       "    }\n",
       "</style>\n",
       "<table border=\"1\" class=\"dataframe\">\n",
       "  <thead>\n",
       "    <tr style=\"text-align: right;\">\n",
       "      <th></th>\n",
       "      <th>Zero Values</th>\n",
       "      <th>NULL Values</th>\n",
       "      <th>% of Total NULL Values</th>\n",
       "      <th>Total Zero's plus NULL Values</th>\n",
       "      <th>% Total Zero's plus NULL Values</th>\n",
       "      <th>Data Type</th>\n",
       "    </tr>\n",
       "  </thead>\n",
       "  <tbody>\n",
       "    <tr>\n",
       "      <th>age</th>\n",
       "      <td>0</td>\n",
       "      <td>0</td>\n",
       "      <td>0.0</td>\n",
       "      <td>0</td>\n",
       "      <td>0.0</td>\n",
       "      <td>float64</td>\n",
       "    </tr>\n",
       "    <tr>\n",
       "      <th>hypertension</th>\n",
       "      <td>4612</td>\n",
       "      <td>0</td>\n",
       "      <td>0.0</td>\n",
       "      <td>4612</td>\n",
       "      <td>90.3</td>\n",
       "      <td>int64</td>\n",
       "    </tr>\n",
       "    <tr>\n",
       "      <th>heart_disease</th>\n",
       "      <td>4834</td>\n",
       "      <td>0</td>\n",
       "      <td>0.0</td>\n",
       "      <td>4834</td>\n",
       "      <td>94.6</td>\n",
       "      <td>int64</td>\n",
       "    </tr>\n",
       "    <tr>\n",
       "      <th>ever_married</th>\n",
       "      <td>1757</td>\n",
       "      <td>0</td>\n",
       "      <td>0.0</td>\n",
       "      <td>1757</td>\n",
       "      <td>34.4</td>\n",
       "      <td>int64</td>\n",
       "    </tr>\n",
       "    <tr>\n",
       "      <th>work_type</th>\n",
       "      <td>0</td>\n",
       "      <td>0</td>\n",
       "      <td>0.0</td>\n",
       "      <td>0</td>\n",
       "      <td>0.0</td>\n",
       "      <td>object</td>\n",
       "    </tr>\n",
       "    <tr>\n",
       "      <th>avg_glucose_level</th>\n",
       "      <td>0</td>\n",
       "      <td>0</td>\n",
       "      <td>0.0</td>\n",
       "      <td>0</td>\n",
       "      <td>0.0</td>\n",
       "      <td>float64</td>\n",
       "    </tr>\n",
       "    <tr>\n",
       "      <th>bmi</th>\n",
       "      <td>0</td>\n",
       "      <td>0</td>\n",
       "      <td>0.0</td>\n",
       "      <td>0</td>\n",
       "      <td>0.0</td>\n",
       "      <td>float64</td>\n",
       "    </tr>\n",
       "    <tr>\n",
       "      <th>smoking_status</th>\n",
       "      <td>0</td>\n",
       "      <td>0</td>\n",
       "      <td>0.0</td>\n",
       "      <td>0</td>\n",
       "      <td>0.0</td>\n",
       "      <td>object</td>\n",
       "    </tr>\n",
       "    <tr>\n",
       "      <th>stroke</th>\n",
       "      <td>4861</td>\n",
       "      <td>0</td>\n",
       "      <td>0.0</td>\n",
       "      <td>4861</td>\n",
       "      <td>95.1</td>\n",
       "      <td>int64</td>\n",
       "    </tr>\n",
       "    <tr>\n",
       "      <th>rural_residence</th>\n",
       "      <td>2596</td>\n",
       "      <td>0</td>\n",
       "      <td>0.0</td>\n",
       "      <td>2596</td>\n",
       "      <td>50.8</td>\n",
       "      <td>uint8</td>\n",
       "    </tr>\n",
       "    <tr>\n",
       "      <th>urban_residence</th>\n",
       "      <td>2514</td>\n",
       "      <td>0</td>\n",
       "      <td>0.0</td>\n",
       "      <td>2514</td>\n",
       "      <td>49.2</td>\n",
       "      <td>uint8</td>\n",
       "    </tr>\n",
       "    <tr>\n",
       "      <th>is_female</th>\n",
       "      <td>2116</td>\n",
       "      <td>0</td>\n",
       "      <td>0.0</td>\n",
       "      <td>2116</td>\n",
       "      <td>41.4</td>\n",
       "      <td>uint8</td>\n",
       "    </tr>\n",
       "    <tr>\n",
       "      <th>is_male</th>\n",
       "      <td>2995</td>\n",
       "      <td>0</td>\n",
       "      <td>0.0</td>\n",
       "      <td>2995</td>\n",
       "      <td>58.6</td>\n",
       "      <td>uint8</td>\n",
       "    </tr>\n",
       "    <tr>\n",
       "      <th>age_bin</th>\n",
       "      <td>507</td>\n",
       "      <td>0</td>\n",
       "      <td>0.0</td>\n",
       "      <td>507</td>\n",
       "      <td>9.9</td>\n",
       "      <td>category</td>\n",
       "    </tr>\n",
       "    <tr>\n",
       "      <th>gluc_bin</th>\n",
       "      <td>0</td>\n",
       "      <td>0</td>\n",
       "      <td>0.0</td>\n",
       "      <td>0</td>\n",
       "      <td>0.0</td>\n",
       "      <td>category</td>\n",
       "    </tr>\n",
       "    <tr>\n",
       "      <th>current_smoker</th>\n",
       "      <td>4321</td>\n",
       "      <td>0</td>\n",
       "      <td>0.0</td>\n",
       "      <td>4321</td>\n",
       "      <td>84.6</td>\n",
       "      <td>int64</td>\n",
       "    </tr>\n",
       "  </tbody>\n",
       "</table>\n",
       "</div>"
      ],
      "text/plain": [
       "                   Zero Values  NULL Values  % of Total NULL Values  \\\n",
       "age                          0            0                     0.0   \n",
       "hypertension              4612            0                     0.0   \n",
       "heart_disease             4834            0                     0.0   \n",
       "ever_married              1757            0                     0.0   \n",
       "work_type                    0            0                     0.0   \n",
       "avg_glucose_level            0            0                     0.0   \n",
       "bmi                          0            0                     0.0   \n",
       "smoking_status               0            0                     0.0   \n",
       "stroke                    4861            0                     0.0   \n",
       "rural_residence           2596            0                     0.0   \n",
       "urban_residence           2514            0                     0.0   \n",
       "is_female                 2116            0                     0.0   \n",
       "is_male                   2995            0                     0.0   \n",
       "age_bin                    507            0                     0.0   \n",
       "gluc_bin                     0            0                     0.0   \n",
       "current_smoker            4321            0                     0.0   \n",
       "\n",
       "                   Total Zero's plus NULL Values  \\\n",
       "age                                            0   \n",
       "hypertension                                4612   \n",
       "heart_disease                               4834   \n",
       "ever_married                                1757   \n",
       "work_type                                      0   \n",
       "avg_glucose_level                              0   \n",
       "bmi                                            0   \n",
       "smoking_status                                 0   \n",
       "stroke                                      4861   \n",
       "rural_residence                             2596   \n",
       "urban_residence                             2514   \n",
       "is_female                                   2116   \n",
       "is_male                                     2995   \n",
       "age_bin                                      507   \n",
       "gluc_bin                                       0   \n",
       "current_smoker                              4321   \n",
       "\n",
       "                   % Total Zero's plus NULL Values Data Type  \n",
       "age                                            0.0   float64  \n",
       "hypertension                                  90.3     int64  \n",
       "heart_disease                                 94.6     int64  \n",
       "ever_married                                  34.4     int64  \n",
       "work_type                                      0.0    object  \n",
       "avg_glucose_level                              0.0   float64  \n",
       "bmi                                            0.0   float64  \n",
       "smoking_status                                 0.0    object  \n",
       "stroke                                        95.1     int64  \n",
       "rural_residence                               50.8     uint8  \n",
       "urban_residence                               49.2     uint8  \n",
       "is_female                                     41.4     uint8  \n",
       "is_male                                       58.6     uint8  \n",
       "age_bin                                        9.9  category  \n",
       "gluc_bin                                       0.0  category  \n",
       "current_smoker                                84.6     int64  "
      ]
     },
     "execution_count": 20,
     "metadata": {},
     "output_type": "execute_result"
    }
   ],
   "source": [
    "w.missing_zero_values_table(df)"
   ]
  },
  {
   "cell_type": "code",
   "execution_count": 21,
   "metadata": {},
   "outputs": [
    {
     "data": {
      "text/html": [
       "<div>\n",
       "<style scoped>\n",
       "    .dataframe tbody tr th:only-of-type {\n",
       "        vertical-align: middle;\n",
       "    }\n",
       "\n",
       "    .dataframe tbody tr th {\n",
       "        vertical-align: top;\n",
       "    }\n",
       "\n",
       "    .dataframe thead th {\n",
       "        text-align: right;\n",
       "    }\n",
       "</style>\n",
       "<table border=\"1\" class=\"dataframe\">\n",
       "  <thead>\n",
       "    <tr style=\"text-align: right;\">\n",
       "      <th></th>\n",
       "      <th>total_missing_cols</th>\n",
       "      <th>num_rows</th>\n",
       "      <th>percent_cols_missing</th>\n",
       "      <th>percent_rows_affected</th>\n",
       "    </tr>\n",
       "  </thead>\n",
       "  <tbody>\n",
       "    <tr>\n",
       "      <th>0</th>\n",
       "      <td>0</td>\n",
       "      <td>5110</td>\n",
       "      <td>0.0</td>\n",
       "      <td>100.0</td>\n",
       "    </tr>\n",
       "  </tbody>\n",
       "</table>\n",
       "</div>"
      ],
      "text/plain": [
       "   total_missing_cols  num_rows  percent_cols_missing  percent_rows_affected\n",
       "0                   0      5110                   0.0                  100.0"
      ]
     },
     "execution_count": 21,
     "metadata": {},
     "output_type": "execute_result"
    }
   ],
   "source": [
    "w.missing_columns(df)"
   ]
  },
  {
   "cell_type": "code",
   "execution_count": 22,
   "metadata": {},
   "outputs": [],
   "source": [
    "df.dropna(inplace=True)"
   ]
  },
  {
   "cell_type": "markdown",
   "metadata": {},
   "source": [
    "# Data Exploration"
   ]
  },
  {
   "cell_type": "code",
   "execution_count": 23,
   "metadata": {},
   "outputs": [
    {
     "data": {
      "image/png": "[encoded data removed]",
      "text/plain": [
       "<Figure size 144x144 with 1 Axes>"
      ]
     },
     "metadata": {
      "needs_background": "light"
     },
     "output_type": "display_data"
    },
    {
     "name": "stdout",
     "output_type": "stream",
     "text": [
      "                   work_type  Count  Percent\n",
      "Private              Private   2925    57.24\n",
      "Self-employed  Self-employed    819    16.03\n",
      "children            Govt_job    687    13.44\n",
      "Govt_job            children    657    12.86\n",
      "Never_worked    Never_worked     22     0.43\n",
      "_________________________________________________________________\n"
     ]
    },
    {
     "data": {
      "image/png": "[encoded data removed]",
      "text/plain": [
       "<Figure size 144x144 with 1 Axes>"
      ]
     },
     "metadata": {
      "needs_background": "light"
     },
     "output_type": "display_data"
    },
    {
     "name": "stdout",
     "output_type": "stream",
     "text": [
      "                  smoking_status  Count  Percent\n",
      "never smoked     formerly smoked   3436    67.24\n",
      "formerly smoked     never smoked    885    17.32\n",
      "smokes                    smokes    789    15.44\n",
      "_________________________________________________________________\n"
     ]
    },
    {
     "data": {
      "image/png": "[encoded data removed]",
      "text/plain": [
       "<Figure size 576x144 with 2 Axes>"
      ]
     },
     "metadata": {
      "needs_background": "light"
     },
     "output_type": "display_data"
    },
    {
     "name": "stdout",
     "output_type": "stream",
     "text": [
      "count    5110.000000\n",
      "mean       43.226614\n",
      "std        22.612647\n",
      "min         0.080000\n",
      "25%        25.000000\n",
      "50%        45.000000\n",
      "75%        61.000000\n",
      "max        82.000000\n",
      "Name: age, dtype: float64\n"
     ]
    },
    {
     "data": {
      "image/png": "[encoded data removed]",
      "text/plain": [
       "<Figure size 576x144 with 2 Axes>"
      ]
     },
     "metadata": {
      "needs_background": "light"
     },
     "output_type": "display_data"
    },
    {
     "name": "stdout",
     "output_type": "stream",
     "text": [
      "count    5110.000000\n",
      "mean       28.941370\n",
      "std         7.767288\n",
      "min        10.300000\n",
      "25%        23.700000\n",
      "50%        28.200000\n",
      "75%        33.100000\n",
      "max        97.600000\n",
      "Name: bmi, dtype: float64\n"
     ]
    }
   ],
   "source": [
    "ex.explore_univariate(df, cat_cols, quant_cols)"
   ]
  },
  {
   "cell_type": "markdown",
   "metadata": {},
   "source": [
    "## Univariate Takeaways\n",
    "\n",
    "- Age is pretty even across the board\n",
    "- most work is in private sector\n",
    "- Avg. glucose and bmi have a right skew, I assume they are related"
   ]
  },
  {
   "cell_type": "code",
   "execution_count": 24,
   "metadata": {},
   "outputs": [],
   "source": [
    "# Split data\n",
    "train, validate, test = w.train_validate_test_split(df, target, 42)"
   ]
  },
  {
   "cell_type": "code",
   "execution_count": 25,
   "metadata": {},
   "outputs": [],
   "source": [
    "# Scale data\n",
    "train, validate, test = w.train_validate_test_scale(train, validate, test, quant_cols)"
   ]
  },
  {
   "cell_type": "code",
   "execution_count": 26,
   "metadata": {},
   "outputs": [
    {
     "name": "stdout",
     "output_type": "stream",
     "text": [
      "hypertension \n",
      "_____________________\n",
      "\n",
      "\n",
      "Mann Whitney Test Comparing Means:  MannwhitneyuResult(statistic=312889.5, pvalue=6.553790077499022e-12)\n",
      "        chi2       p-value  degrees of freedom\n",
      "0  45.104902  1.867573e-11                   1\n",
      "\n",
      "expected:\n",
      "              0           1\n",
      "0  2473.458581  121.541419\n",
      "1   253.541419   12.458581\n"
     ]
    },
    {
     "data": {
      "image/png": "[encoded data removed]",
      "text/plain": [
       "<Figure size 144x144 with 1 Axes>"
      ]
     },
     "metadata": {
      "needs_background": "light"
     },
     "output_type": "display_data"
    },
    {
     "name": "stdout",
     "output_type": "stream",
     "text": [
      "\n",
      "_____________________\n",
      "\n",
      "heart_disease \n",
      "_____________________\n",
      "\n",
      "\n",
      "Mann Whitney Test Comparing Means:  MannwhitneyuResult(statistic=177857.0, pvalue=1.3889165361181e-09)\n",
      "        chi2       p-value  degrees of freedom\n",
      "0  34.311032  4.697115e-09                   1\n",
      "\n",
      "expected:\n",
      "              0           1\n",
      "0  2586.885005  127.114995\n",
      "1   140.114995    6.885005\n"
     ]
    },
    {
     "data": {
      "image/png": "[encoded data removed]",
      "text/plain": [
       "<Figure size 144x144 with 1 Axes>"
      ]
     },
     "metadata": {
      "needs_background": "light"
     },
     "output_type": "display_data"
    },
    {
     "name": "stdout",
     "output_type": "stream",
     "text": [
      "\n",
      "_____________________\n",
      "\n",
      "ever_married \n",
      "_____________________\n",
      "\n",
      "\n",
      "Mann Whitney Test Comparing Means:  MannwhitneyuResult(statistic=882631.5, pvalue=5.571480011429397e-08)\n",
      "        chi2       p-value  degrees of freedom\n",
      "0  28.515153  9.296802e-08                   1\n",
      "\n",
      "expected:\n",
      "              0          1\n",
      "0   939.818944  46.181056\n",
      "1  1787.181056  87.818944\n"
     ]
    },
    {
     "data": {
      "image/png": "[encoded data removed]",
      "text/plain": [
       "<Figure size 144x144 with 1 Axes>"
      ]
     },
     "metadata": {
      "needs_background": "light"
     },
     "output_type": "display_data"
    },
    {
     "name": "stdout",
     "output_type": "stream",
     "text": [
      "\n",
      "_____________________\n",
      "\n",
      "rural_residence \n",
      "_____________________\n",
      "\n",
      "\n",
      "Mann Whitney Test Comparing Means:  MannwhitneyuResult(statistic=1025714.5, pvalue=0.7516070397885689)\n",
      "       chi2   p-value  degrees of freedom\n",
      "0  0.052054  0.819527                   1\n",
      "\n",
      "expected:\n",
      "              0          1\n",
      "0  1367.789235  67.210765\n",
      "1  1359.210765  66.789235\n"
     ]
    },
    {
     "data": {
      "image/png": "[encoded data removed]",
      "text/plain": [
       "<Figure size 144x144 with 1 Axes>"
      ]
     },
     "metadata": {
      "needs_background": "light"
     },
     "output_type": "display_data"
    },
    {
     "name": "stdout",
     "output_type": "stream",
     "text": [
      "\n",
      "_____________________\n",
      "\n",
      "urban_residence \n",
      "_____________________\n",
      "\n",
      "\n",
      "Mann Whitney Test Comparing Means:  MannwhitneyuResult(statistic=1020595.5, pvalue=0.7516070397885689)\n",
      "       chi2   p-value  degrees of freedom\n",
      "0  0.052054  0.819527                   1\n",
      "\n",
      "expected:\n",
      "              0          1\n",
      "0  1359.210765  66.789235\n",
      "1  1367.789235  67.210765\n"
     ]
    },
    {
     "data": {
      "image/png": "[encoded data removed]",
      "text/plain": [
       "<Figure size 144x144 with 1 Axes>"
      ]
     },
     "metadata": {
      "needs_background": "light"
     },
     "output_type": "display_data"
    },
    {
     "name": "stdout",
     "output_type": "stream",
     "text": [
      "\n",
      "_____________________\n",
      "\n",
      "current_smoker \n",
      "_____________________\n",
      "\n",
      "\n",
      "Mann Whitney Test Comparing Means:  MannwhitneyuResult(statistic=535904.0, pvalue=0.7775599937041375)\n",
      "      chi2   p-value  degrees of freedom\n",
      "0  0.02578  0.872439                   1\n",
      "\n",
      "expected:\n",
      "              0           1\n",
      "0  2302.842363  113.157637\n",
      "1   424.157637   20.842363\n"
     ]
    },
    {
     "data": {
      "image/png": "[encoded data removed]",
      "text/plain": [
       "<Figure size 144x144 with 1 Axes>"
      ]
     },
     "metadata": {
      "needs_background": "light"
     },
     "output_type": "display_data"
    },
    {
     "name": "stdout",
     "output_type": "stream",
     "text": [
      "\n",
      "_____________________\n",
      "\n",
      "is_female \n",
      "_____________________\n",
      "\n",
      "\n",
      "Mann Whitney Test Comparing Means:  MannwhitneyuResult(statistic=995244.5, pvalue=0.44971837116201674)\n",
      "       chi2   p-value  degrees of freedom\n",
      "0  0.443677  0.505353                   1\n",
      "\n",
      "expected:\n",
      "              0          1\n",
      "0  1115.200979  54.799021\n",
      "1  1611.799021  79.200979\n"
     ]
    },
    {
     "data": {
      "image/png": "[encoded data removed]",
      "text/plain": [
       "<Figure size 144x144 with 1 Axes>"
      ]
     },
     "metadata": {
      "needs_background": "light"
     },
     "output_type": "display_data"
    },
    {
     "name": "stdout",
     "output_type": "stream",
     "text": [
      "\n",
      "_____________________\n",
      "\n",
      "is_male \n",
      "_____________________\n",
      "\n",
      "\n",
      "Mann Whitney Test Comparing Means:  MannwhitneyuResult(statistic=983225.5, pvalue=0.44971837116201674)\n",
      "       chi2   p-value  degrees of freedom\n",
      "0  0.443677  0.505353                   1\n",
      "\n",
      "expected:\n",
      "              0          1\n",
      "0  1611.799021  79.200979\n",
      "1  1115.200979  54.799021\n"
     ]
    },
    {
     "data": {
      "image/png": "[encoded data removed]",
      "text/plain": [
       "<Figure size 144x144 with 1 Axes>"
      ]
     },
     "metadata": {
      "needs_background": "light"
     },
     "output_type": "display_data"
    },
    {
     "name": "stdout",
     "output_type": "stream",
     "text": [
      "\n",
      "_____________________\n",
      "\n",
      "age \n",
      "____________________\n",
      "\n"
     ]
    },
    {
     "data": {
      "image/png": "[encoded data removed]",
      "text/plain": [
       "<Figure size 288x288 with 1 Axes>"
      ]
     },
     "metadata": {
      "needs_background": "light"
     },
     "output_type": "display_data"
    },
    {
     "data": {
      "image/png": "[encoded data removed]",
      "text/plain": [
       "<Figure size 432x288 with 1 Axes>"
      ]
     },
     "metadata": {
      "needs_background": "light"
     },
     "output_type": "display_data"
    },
    {
     "name": "stdout",
     "output_type": "stream",
     "text": [
      "stroke            0           1\n",
      "count   2727.000000  134.000000\n",
      "mean       0.511933    0.825772\n",
      "std        0.274539    0.163637\n",
      "min        0.000000    0.014174\n",
      "25%        0.291300    0.712854\n",
      "50%        0.523460    0.871701\n",
      "75%        0.731183    0.951124\n",
      "max        1.000000    1.000000 \n",
      "\n",
      "\n",
      "Spearman's Correlation Test:\n",
      " SpearmanrResult(correlation=0.24211461018984456, pvalue=1.9263281778143073e-39)\n",
      "\n",
      "____________________\n",
      "\n",
      "bmi \n",
      "____________________\n",
      "\n"
     ]
    },
    {
     "data": {
      "image/png": "[encoded data removed]",
      "text/plain": [
       "<Figure size 288x288 with 1 Axes>"
      ]
     },
     "metadata": {
      "needs_background": "light"
     },
     "output_type": "display_data"
    },
    {
     "data": {
      "image/png": "[encoded data removed]",
      "text/plain": [
       "<Figure size 432x288 with 1 Axes>"
      ]
     },
     "metadata": {
      "needs_background": "light"
     },
     "output_type": "display_data"
    },
    {
     "name": "stdout",
     "output_type": "stream",
     "text": [
      "stroke            0           1\n",
      "count   2727.000000  134.000000\n",
      "mean       0.227162    0.245389\n",
      "std        0.096291    0.075386\n",
      "min        0.000000    0.095165\n",
      "25%        0.161567    0.200122\n",
      "50%        0.216952    0.236689\n",
      "75%        0.277846    0.279682\n",
      "max        1.000000    0.566707 \n",
      "\n",
      "\n",
      "Spearman's Correlation Test:\n",
      " SpearmanrResult(correlation=0.055086668287861545, pvalue=0.0032041317696408335)\n",
      "\n",
      "____________________\n",
      "\n"
     ]
    }
   ],
   "source": [
    "ex.explore_bivariate(train, target, target, bin_cols, quant_cols)"
   ]
  },
  {
   "cell_type": "markdown",
   "metadata": {},
   "source": [
    "## Bivariate takeaways\n",
    "\n",
    "- Good features:\n",
    "    - hypertension\n",
    "    - heart disease\n",
    "    - ever married\n",
    "    - age\n",
    "    - glucose\n",
    "- Bad features:\n",
    "    - residency\n",
    "    - gender\n",
    "    - current smoker\n",
    "- Need more info:\n",
    "    - bmi\n",
    "    - ever_smoked...\n",
    "   "
   ]
  },
  {
   "cell_type": "code",
   "execution_count": 27,
   "metadata": {},
   "outputs": [],
   "source": [
    "# sns.pairplot(train, hue = 'stroke')"
   ]
  },
  {
   "cell_type": "code",
   "execution_count": 28,
   "metadata": {},
   "outputs": [
    {
     "data": {
      "text/plain": [
       "<AxesSubplot:xlabel='work_type', ylabel='count'>"
      ]
     },
     "execution_count": 28,
     "metadata": {},
     "output_type": "execute_result"
    },
    {
     "data": {
      "image/png": "[encoded data removed]",
      "text/plain": [
       "<Figure size 432x288 with 1 Axes>"
      ]
     },
     "metadata": {
      "needs_background": "light"
     },
     "output_type": "display_data"
    }
   ],
   "source": [
    "sns.countplot(data=train, x='work_type', hue='stroke')"
   ]
  },
  {
   "cell_type": "markdown",
   "metadata": {},
   "source": [
    "Nothing really stands out with work_type, for the time being I will forgo this information in my model."
   ]
  },
  {
   "cell_type": "markdown",
   "metadata": {},
   "source": [
    "## Statistical Analysis"
   ]
  },
  {
   "cell_type": "markdown",
   "metadata": {},
   "source": [
    "### χ<sup>2</sup> Test\n",
    "\n",
    "The χ<sup>2</sup> test allows me to test for independence of 2 categorical variables."
   ]
  },
  {
   "cell_type": "markdown",
   "metadata": {},
   "source": [
    "### Confidence \n",
    "\n",
    "- Confidence level will be 99%\n",
    "- Alpha will be 0.01 \n",
    "- p-value must be below 0.01 to be statistically sigificant"
   ]
  },
  {
   "cell_type": "markdown",
   "metadata": {},
   "source": [
    "### Hypothesis\n",
    "- The null hypothesis (H<sub>0</sub>) is: hypertension is independent from stroke\n",
    "- The alternate hypothesis (H<sub>1</sub>) is: hypertension and stroke are dependent"
   ]
  },
  {
   "cell_type": "code",
   "execution_count": 29,
   "metadata": {},
   "outputs": [
    {
     "name": "stdout",
     "output_type": "stream",
     "text": [
      "Observed\n",
      "\n",
      "[[2496   99]\n",
      " [ 231   35]]\n",
      "---\n",
      "Expected\n",
      "\n",
      "[[2473.45858092  121.54141908]\n",
      " [ 253.54141908   12.45858092]]\n",
      "---\n",
      "\n",
      "chi^2 = 45.1049\n",
      "p     = 0.0000\n",
      "\n",
      "Becasue the p-value: 0.0 is less than alpha: 0.01, we can reject the null hypothesis\n"
     ]
    }
   ],
   "source": [
    "ex.chi2(train, 'hypertension', 'stroke', 0.01)"
   ]
  },
  {
   "cell_type": "markdown",
   "metadata": {},
   "source": [
    "### Hypothesis\n",
    "- H<sub>0</sub> is: heart diease is independent from stroke\n",
    "- H<sub>1</sub> is: heart disease and stroke are dependent"
   ]
  },
  {
   "cell_type": "code",
   "execution_count": 30,
   "metadata": {},
   "outputs": [
    {
     "name": "stdout",
     "output_type": "stream",
     "text": [
      "Observed\n",
      "\n",
      "[[2602  112]\n",
      " [ 125   22]]\n",
      "---\n",
      "Expected\n",
      "\n",
      "[[2586.88500524  127.11499476]\n",
      " [ 140.11499476    6.88500524]]\n",
      "---\n",
      "\n",
      "chi^2 = 34.3110\n",
      "p     = 0.0000\n",
      "\n",
      "Becasue the p-value: 0.0 is less than alpha: 0.01, we can reject the null hypothesis\n"
     ]
    }
   ],
   "source": [
    "ex.chi2(train, 'heart_disease', 'stroke', 0.01)"
   ]
  },
  {
   "cell_type": "markdown",
   "metadata": {},
   "source": [
    "### Hypothesis\n",
    "- H<sub>0</sub> is: ever married is independent from stroke\n",
    "- H<sub>1</sub> is: ever married and stroke are dependent"
   ]
  },
  {
   "cell_type": "code",
   "execution_count": 31,
   "metadata": {},
   "outputs": [
    {
     "name": "stdout",
     "output_type": "stream",
     "text": [
      "Observed\n",
      "\n",
      "[[ 969   17]\n",
      " [1758  117]]\n",
      "---\n",
      "Expected\n",
      "\n",
      "[[ 939.81894443   46.18105557]\n",
      " [1787.18105557   87.81894443]]\n",
      "---\n",
      "\n",
      "chi^2 = 28.5152\n",
      "p     = 0.0000\n",
      "\n",
      "Becasue the p-value: 0.0 is less than alpha: 0.01, we can reject the null hypothesis\n"
     ]
    }
   ],
   "source": [
    "ex.chi2(train, 'ever_married', 'stroke', 0.01)"
   ]
  },
  {
   "cell_type": "markdown",
   "metadata": {},
   "source": [
    "### T-Test\n",
    "\n",
    "- The T-test allows me to compare the means of 2 subgroups"
   ]
  },
  {
   "cell_type": "markdown",
   "metadata": {},
   "source": [
    "### Confidence \n",
    "\n",
    "- Confidence level will be 99%\n",
    "- Alpha will be 0.01 \n",
    "- p-value must be below 0.01 to be statistically sigificant"
   ]
  },
  {
   "cell_type": "markdown",
   "metadata": {},
   "source": [
    "### Hypothesis: Age of those who have had a stroke vs. the age of the those who have not had a stroke\n",
    "\n",
    "#### Two Sample, One Tail T-test\n",
    "\n",
    "- H<sub>0</sub> is: The age of those who have not had a stroke is equal to or higher than the age of those who have had a stroke.\n",
    "- H<sub>1</sub> is: The age of those who have not had a stroke is significantly less than the age of those who have had a stroke."
   ]
  },
  {
   "cell_type": "code",
   "execution_count": 32,
   "metadata": {},
   "outputs": [],
   "source": [
    "age_stroke = train[train.stroke == 1].age\n",
    "age_no_stroke = train[train.stroke == 0].age"
   ]
  },
  {
   "cell_type": "code",
   "execution_count": 33,
   "metadata": {},
   "outputs": [
    {
     "data": {
      "text/plain": [
       "<AxesSubplot:xlabel='stroke', ylabel='age'>"
      ]
     },
     "execution_count": 33,
     "metadata": {},
     "output_type": "execute_result"
    },
    {
     "data": {
      "image/png": "[encoded data removed]",
      "text/plain": [
       "<Figure size 432x288 with 1 Axes>"
      ]
     },
     "metadata": {
      "needs_background": "light"
     },
     "output_type": "display_data"
    }
   ],
   "source": [
    "sns.boxenplot(data=train, y='age', x='stroke')"
   ]
  },
  {
   "cell_type": "code",
   "execution_count": 34,
   "metadata": {},
   "outputs": [
    {
     "name": "stdout",
     "output_type": "stream",
     "text": [
      "t-stat = -13.1175\n",
      "p     = 0.0\n",
      "\n",
      "Because the p-value: 0.0 is less than alpha: 0.01 and the t-stat: -13.1175 is less than 0, we reject the null hypothesis\n"
     ]
    }
   ],
   "source": [
    "ex.t_test(age_no_stroke, age_stroke, 0.01, sample=2, tail=1, tail_dir='lower')"
   ]
  },
  {
   "cell_type": "markdown",
   "metadata": {},
   "source": [
    "### Hypothesis: Average glucose level of those who have had a stroke and the average glucose level of those who have not had a stroke.\n",
    "\n",
    "#### Two Sample, Two Tail T-test\n",
    "\n",
    "- H<sub>0</sub> is: there is no difference in the glucose levels of those who had a stroke and those who did not\n",
    "- H<sub>1</sub> is: there is a significant difference in the gluclose levels of those who had a stroke and those who did not"
   ]
  },
  {
   "cell_type": "code",
   "execution_count": 35,
   "metadata": {},
   "outputs": [],
   "source": [
    "gluc_stroke = train[train.stroke == 1].avg_glucose_level\n",
    "gluc_no_stroke = train[train.stroke == 0].avg_glucose_level"
   ]
  },
  {
   "cell_type": "code",
   "execution_count": 36,
   "metadata": {},
   "outputs": [
    {
     "data": {
      "text/plain": [
       "<AxesSubplot:xlabel='stroke', ylabel='avg_glucose_level'>"
      ]
     },
     "execution_count": 36,
     "metadata": {},
     "output_type": "execute_result"
    },
    {
     "data": {
      "image/png": "[encoded data removed]",
      "text/plain": [
       "<Figure size 432x288 with 1 Axes>"
      ]
     },
     "metadata": {
      "needs_background": "light"
     },
     "output_type": "display_data"
    }
   ],
   "source": [
    "sns.boxenplot(data=train, y='avg_glucose_level', x='stroke')"
   ]
  },
  {
   "cell_type": "code",
   "execution_count": 37,
   "metadata": {},
   "outputs": [
    {
     "name": "stdout",
     "output_type": "stream",
     "text": [
      "t-stat = -6.6166\n",
      "p     = 0.0\n",
      "\n",
      "Because the p-value: 0.0 is less than the alpha: 0.01, we reject the null hypothesis\n"
     ]
    }
   ],
   "source": [
    "ex.t_test(gluc_no_stroke, gluc_stroke, 0.01, sample=2)"
   ]
  },
  {
   "cell_type": "markdown",
   "metadata": {},
   "source": [
    "## Statistical Summary\n",
    "\n",
    "### χ<sup>2</sup> Results\n",
    "- heart_disease, hypertension, and ever_married all rejected the null hypothesis\n",
    "- It is now assumed that there is a dependency of each variable and stroke.\n",
    "\n",
    "### T-test Results\n",
    "- a two sample one tail t-test was performed on age of those who had a stroke and those who did not have a stroke.\n",
    "- the null hypothesis was rejected.\n",
    "- the t-test proved that the age of those who have not had a stroke was significantly less than the age of those who have had a stroke.\n",
    "\n",
    "- a two sample two tail t-test was performed on average glucose levels of those who had a stroke and those who did not have a stroke.\n",
    "- the null hypothesis was rejected."
   ]
  },
  {
   "cell_type": "markdown",
   "metadata": {},
   "source": [
    "## Modeling: Classification"
   ]
  },
  {
   "cell_type": "code",
   "execution_count": 38,
   "metadata": {},
   "outputs": [],
   "source": [
    "X_train = train.drop(columns=['stroke'])\n",
    "y_train = train.stroke\n",
    "\n",
    "X_validate = validate.drop(columns=['stroke'])\n",
    "y_validate = validate.stroke\n",
    "\n",
    "X_test = test.drop(columns=['stroke'])\n",
    "y_test = test.stroke"
   ]
  },
  {
   "cell_type": "code",
   "execution_count": 39,
   "metadata": {},
   "outputs": [],
   "source": [
    "# create list of features that will be used for modeling.\n",
    "features = ['hypertension', 'heart_disease', 'ever_married', 'age_bin', 'gluc_bin']"
   ]
  },
  {
   "cell_type": "markdown",
   "metadata": {},
   "source": [
    "### Baseline"
   ]
  },
  {
   "cell_type": "code",
   "execution_count": 40,
   "metadata": {},
   "outputs": [
    {
     "data": {
      "text/plain": [
       "0    2727\n",
       "1     134\n",
       "Name: stroke, dtype: int64"
      ]
     },
     "execution_count": 40,
     "metadata": {},
     "output_type": "execute_result"
    }
   ],
   "source": [
    "# find out the mode of the target variable\n",
    "train.stroke.value_counts()"
   ]
  },
  {
   "cell_type": "code",
   "execution_count": 41,
   "metadata": {},
   "outputs": [
    {
     "name": "stdout",
     "output_type": "stream",
     "text": [
      "My baseline prediction is survived = 0\n",
      "My baseline accuracy is: 95.32%\n"
     ]
    }
   ],
   "source": [
    "# Establish new column that contains the mode\n",
    "train[\"most_frequent\"] = 0\n",
    "\n",
    "# Calcuate the baseline accuracy\n",
    "baseline_accuracy = (train.stroke == train.most_frequent).mean()\n",
    "print(f'My baseline prediction is survived = 0')\n",
    "print(f'My baseline accuracy is: {baseline_accuracy:.2%}')"
   ]
  },
  {
   "cell_type": "code",
   "execution_count": null,
   "metadata": {},
   "outputs": [],
   "source": []
  },
  {
   "cell_type": "code",
   "execution_count": null,
   "metadata": {},
   "outputs": [],
   "source": []
  },
  {
   "cell_type": "code",
   "execution_count": 42,
   "metadata": {},
   "outputs": [],
   "source": [
    "from sklearn.model_selection import RandomizedSearchCV, GridSearchCV\n",
    "from scipy.stats import uniform"
   ]
  },
  {
   "cell_type": "code",
   "execution_count": 43,
   "metadata": {},
   "outputs": [],
   "source": [
    "parameters = [\n",
    "    {\n",
    "    'algorithm': ['auto', 'ball_tree', 'kd_tree', 'brute'],\n",
    "    'n_neighbors': [1, 3, 5, 7, 9],\n",
    "    'weights': ['distance'],\n",
    "    },\n",
    "]\n",
    "\n",
    "model = KNeighborsClassifier()\n",
    "grid_search = GridSearchCV(model,\n",
    "                           param_grid=parameters,\n",
    "                           cv=5,\n",
    "                           scoring='recall',\n",
    "                           )\n",
    "\n",
    "r = grid_search.fit(X_train[features], y_train)\n",
    "scores = r.cv_results_\n",
    "knn = r.best_estimator_\n"
   ]
  },
  {
   "cell_type": "code",
   "execution_count": 44,
   "metadata": {},
   "outputs": [
    {
     "data": {
      "text/plain": [
       "0.11937321937321939"
      ]
     },
     "execution_count": 44,
     "metadata": {},
     "output_type": "execute_result"
    }
   ],
   "source": [
    "max(scores['mean_test_score'])"
   ]
  },
  {
   "cell_type": "code",
   "execution_count": 45,
   "metadata": {},
   "outputs": [
    {
     "name": "stdout",
     "output_type": "stream",
     "text": [
      "0.014814814814814814 {'algorithm': 'auto', 'n_neighbors': 3, 'weights': 'distance'}\n",
      "0.014814814814814814 {'algorithm': 'auto', 'n_neighbors': 7, 'weights': 'distance'}\n",
      "0.014814814814814814 {'algorithm': 'auto', 'n_neighbors': 9, 'weights': 'distance'}\n",
      "0.014814814814814814 {'algorithm': 'ball_tree', 'n_neighbors': 3, 'weights': 'distance'}\n",
      "0.014814814814814814 {'algorithm': 'ball_tree', 'n_neighbors': 7, 'weights': 'distance'}\n",
      "0.014814814814814814 {'algorithm': 'ball_tree', 'n_neighbors': 9, 'weights': 'distance'}\n",
      "0.014814814814814814 {'algorithm': 'kd_tree', 'n_neighbors': 3, 'weights': 'distance'}\n",
      "0.014814814814814814 {'algorithm': 'kd_tree', 'n_neighbors': 7, 'weights': 'distance'}\n",
      "0.014814814814814814 {'algorithm': 'kd_tree', 'n_neighbors': 9, 'weights': 'distance'}\n",
      "0.0150997150997151 {'algorithm': 'brute', 'n_neighbors': 9, 'weights': 'distance'}\n",
      "0.02222222222222222 {'algorithm': 'auto', 'n_neighbors': 5, 'weights': 'distance'}\n",
      "0.02222222222222222 {'algorithm': 'ball_tree', 'n_neighbors': 5, 'weights': 'distance'}\n",
      "0.02222222222222222 {'algorithm': 'kd_tree', 'n_neighbors': 5, 'weights': 'distance'}\n",
      "0.022507122507122508 {'algorithm': 'brute', 'n_neighbors': 7, 'weights': 'distance'}\n",
      "0.029629629629629627 {'algorithm': 'brute', 'n_neighbors': 5, 'weights': 'distance'}\n",
      "0.06695156695156694 {'algorithm': 'brute', 'n_neighbors': 3, 'weights': 'distance'}\n",
      "0.1188034188034188 {'algorithm': 'auto', 'n_neighbors': 1, 'weights': 'distance'}\n",
      "0.1188034188034188 {'algorithm': 'ball_tree', 'n_neighbors': 1, 'weights': 'distance'}\n",
      "0.1188034188034188 {'algorithm': 'kd_tree', 'n_neighbors': 1, 'weights': 'distance'}\n",
      "0.11937321937321939 {'algorithm': 'brute', 'n_neighbors': 1, 'weights': 'distance'}\n"
     ]
    }
   ],
   "source": [
    "for mean_score, params in sorted(list(zip(scores[\"mean_test_score\"], scores[\"params\"])),key = lambda x: x[0]):\n",
    "     print(mean_score, params)"
   ]
  },
  {
   "cell_type": "markdown",
   "metadata": {},
   "source": [
    "### Model 1: K Nearest Neighbors"
   ]
  },
  {
   "cell_type": "code",
   "execution_count": 46,
   "metadata": {},
   "outputs": [],
   "source": [
    "# Create the model\n",
    "n_neighbors = 1\n",
    "knn = KNeighborsClassifier(algorithm='brute', n_neighbors=n_neighbors, weights='distance')\n",
    "\n",
    "# Fit the model with the train data\n",
    "knn.fit(X_train[features], y_train)\n",
    "\n",
    "# Predict the target\n",
    "y_pred_knn = knn.predict(X_train[features])\n",
    "\n",
    "# predict the probability\n",
    "y_pred_proba_knn = knn.predict_proba(X_train[features])"
   ]
  },
  {
   "cell_type": "code",
   "execution_count": 47,
   "metadata": {},
   "outputs": [],
   "source": [
    "# Create confusion matrix, label true positive, true negative, false positive, false negative\n",
    "[tn,fp],[fn, tp] = confusion_matrix(y_train, y_pred_knn)\n",
    "\n",
    "# Calculate the true positive rate, true negative rate, false positive rate, and false negative rate \n",
    "tpr = (tp / (tp+fn))\n",
    "fnr = (fn / (fn+tp))\n",
    "tnr = (tn / (tn+fp))\n",
    "fpr = (fp / (tn+fp))"
   ]
  },
  {
   "cell_type": "code",
   "execution_count": 48,
   "metadata": {},
   "outputs": [
    {
     "name": "stdout",
     "output_type": "stream",
     "text": [
      "The confusion matrix:\n",
      " [[2686   41]\n",
      " [ 111   23]]\n",
      "\n",
      "Classificaiton Report:\n",
      "              precision    recall  f1-score   support\n",
      "\n",
      "           0       0.96      0.98      0.97      2727\n",
      "           1       0.36      0.17      0.23       134\n",
      "\n",
      "    accuracy                           0.95      2861\n",
      "   macro avg       0.66      0.58      0.60      2861\n",
      "weighted avg       0.93      0.95      0.94      2861\n",
      "\n",
      "\n",
      "The True Positive Rate is: 17.16%\n",
      "The False Positive Rate is: 1.50%\n",
      "The True Negative Rate is: 98.50%\n",
      "The False Negative Rate is: 82.84%\n",
      "\n",
      "Accuracy of KNN classifier on training set n_neighbors set to 4: 0.95\n",
      "Accuracy of KNN classifier on validate set with n_neighbors set to 4: 0.95\n",
      "\n"
     ]
    }
   ],
   "source": [
    "print(f'The confusion matrix:\\n {confusion_matrix(y_train, y_pred_knn)}\\n')\n",
    "print(f'Classificaiton Report:\\n{classification_report(y_train, y_pred_knn)}\\n')\n",
    "print(f'The True Positive Rate is: {tpr:.2%}')\n",
    "print(f'The False Positive Rate is: {fpr:.2%}')\n",
    "print(f'The True Negative Rate is: {tnr:.2%}')\n",
    "print(f'The False Negative Rate is: {fnr:.2%}\\n')\n",
    "print('Accuracy of KNN classifier on training set n_neighbors set to 4: {:.2f}'\n",
    "     .format(knn.score(X_train[features], y_train)))\n",
    "print('Accuracy of KNN classifier on validate set with n_neighbors set to 4: {:.2f}\\n'\n",
    "     .format(knn.score(X_validate[features], y_validate)))"
   ]
  },
  {
   "cell_type": "markdown",
   "metadata": {},
   "source": [
    "### Model 2: Random Forest"
   ]
  },
  {
   "cell_type": "code",
   "execution_count": 49,
   "metadata": {},
   "outputs": [],
   "source": [
    "# create the random forest model\n",
    "rf = RandomForestClassifier(bootstrap=True, \n",
    "                            n_estimators=50,\n",
    "                            warm_start=True,\n",
    "                            oob_score=True,\n",
    "                            criterion='gini', \n",
    "                            random_state=42)"
   ]
  },
  {
   "cell_type": "code",
   "execution_count": 50,
   "metadata": {},
   "outputs": [],
   "source": [
    "# fit the model with X_train\n",
    "rf.fit(X_train[features], y_train)\n",
    "\n",
    "# Predict the target\n",
    "y_pred_rf = rf.predict(X_train[features])\n",
    "\n",
    "# predict the probability\n",
    "y_pred_proba_rf = rf.predict_proba(X_train[features])"
   ]
  },
  {
   "cell_type": "code",
   "execution_count": 51,
   "metadata": {},
   "outputs": [],
   "source": [
    "# Create confusion matrix, label true positive, true negative, false positive, false negative\n",
    "[tn,fp],[fn, tp] = confusion_matrix(y_train, y_pred_rf)\n",
    "\n",
    "# Calculate the true positive rate, true negative rate, false positive rate, and false negative rate \n",
    "tpr = (tp / (tp+fn))\n",
    "fnr = (fn / (fn+tp))\n",
    "tnr = (tn / (tn+fp))\n",
    "fpr = (fp / (tn+fp))"
   ]
  },
  {
   "cell_type": "code",
   "execution_count": 52,
   "metadata": {},
   "outputs": [
    {
     "name": "stdout",
     "output_type": "stream",
     "text": [
      "\n",
      "The confusion matrix:\n",
      " [[2719    8]\n",
      " [ 117   17]]\n",
      "\n",
      "Classificaiton Report:\n",
      "              precision    recall  f1-score   support\n",
      "\n",
      "           0       0.96      1.00      0.98      2727\n",
      "           1       0.68      0.13      0.21       134\n",
      "\n",
      "    accuracy                           0.96      2861\n",
      "   macro avg       0.82      0.56      0.60      2861\n",
      "weighted avg       0.95      0.96      0.94      2861\n",
      "\n",
      "\n",
      "The True Positive Rate is: 12.69%\n",
      "The False Positive Rate is: 0.29%\n",
      "The True Negative Rate is: 99.71%\n",
      "The False Negative Rate is: 87.31%\n",
      "\n",
      "Accuracy of random forest classifier on training set: 0.96\n",
      "Accuracy of random forest classifier on the validate set: 0.95\n"
     ]
    }
   ],
   "source": [
    "print(f'\\nThe confusion matrix:\\n {confusion_matrix(y_train, y_pred_rf)}\\n')\n",
    "print(f'Classificaiton Report:\\n{classification_report(y_train, y_pred_rf)}\\n')\n",
    "print(f'The True Positive Rate is: {tpr:.2%}')\n",
    "print(f'The False Positive Rate is: {fpr:.2%}')\n",
    "print(f'The True Negative Rate is: {tnr:.2%}')\n",
    "print(f'The False Negative Rate is: {fnr:.2%}\\n')\n",
    "print('Accuracy of random forest classifier on training set: {:.2f}'\n",
    "     .format(rf.score(X_train[features], y_train)))\n",
    "print('Accuracy of random forest classifier on the validate set: {:.2f}'\n",
    "     .format(rf.score(X_validate[features], y_validate)))"
   ]
  },
  {
   "cell_type": "markdown",
   "metadata": {},
   "source": [
    "### Model 3: Decision Tree"
   ]
  },
  {
   "cell_type": "code",
   "execution_count": 53,
   "metadata": {},
   "outputs": [],
   "source": [
    "# Create decision tree model\n",
    "clf = DecisionTreeClassifier(max_depth=7, splitter='random', random_state=42)"
   ]
  },
  {
   "cell_type": "code",
   "execution_count": 54,
   "metadata": {},
   "outputs": [],
   "source": [
    "# fit the model\n",
    "clf = clf.fit(X_train[features], y_train)\n",
    "\n",
    "# predict the target\n",
    "y_pred_clf = clf.predict(X_train[features])\n",
    "\n",
    "# predict the probability\n",
    "y_pred_proba_clf = clf.predict_proba(X_train[features])"
   ]
  },
  {
   "cell_type": "code",
   "execution_count": 55,
   "metadata": {},
   "outputs": [],
   "source": [
    "# Create confusion matrix, label true positive, true negative, false positive, false negative\n",
    "[tn,fp],[fn, tp] = confusion_matrix(y_train, y_pred_clf)\n",
    "\n",
    "# Calculate the true positive rate, true negative rate, false positive rate, and false negative rate \n",
    "tpr = (tp / (tp+fn))\n",
    "fnr = (fn / (fn+tp))\n",
    "tnr = (tn / (tn+fp))\n",
    "fpr = (fp / (tn+fp))"
   ]
  },
  {
   "cell_type": "code",
   "execution_count": 56,
   "metadata": {},
   "outputs": [
    {
     "name": "stdout",
     "output_type": "stream",
     "text": [
      "The confusion matrix:\n",
      " [[2726    1]\n",
      " [ 128    6]]\n",
      "\n",
      "Classificaiton Report:\n",
      "               precision    recall  f1-score   support\n",
      "\n",
      "           0       0.96      1.00      0.98      2727\n",
      "           1       0.86      0.04      0.09       134\n",
      "\n",
      "    accuracy                           0.95      2861\n",
      "   macro avg       0.91      0.52      0.53      2861\n",
      "weighted avg       0.95      0.95      0.94      2861\n",
      "\n",
      "The True Positive Rate is: 4.48%\n",
      "The False Positive Rate is: 0.04%\n",
      "The True Negative Rate is: 99.96%\n",
      "The False Negative Rate is: 95.52%\n",
      "\n",
      "Accuracy of Decision Tree classifier on training set: 0.95\n",
      "\n",
      "Accuracy of Decision Tree classifier on validate set: 0.95\n"
     ]
    }
   ],
   "source": [
    "print(f'The confusion matrix:\\n {confusion_matrix(y_train, y_pred_clf)}\\n')\n",
    "print(f'Classificaiton Report:\\n {classification_report(y_train, y_pred_clf)}')\n",
    "print(f'The True Positive Rate is: {tpr:.2%}')\n",
    "print(f'The False Positive Rate is: {fpr:.2%}')\n",
    "print(f'The True Negative Rate is: {tnr:.2%}')\n",
    "print(f'The False Negative Rate is: {fnr:.2%}\\n')\n",
    "print('Accuracy of Decision Tree classifier on training set: {:.2f}\\n'\n",
    "      .format(clf.score(X_train[features], y_train)))\n",
    "print('Accuracy of Decision Tree classifier on validate set: {:.2f}'\n",
    "     .format(clf.score(X_validate[features], y_validate)))"
   ]
  },
  {
   "cell_type": "markdown",
   "metadata": {},
   "source": [
    "### Model 4: Logistic Regression"
   ]
  },
  {
   "cell_type": "code",
   "execution_count": 57,
   "metadata": {},
   "outputs": [],
   "source": [
    "logit = LogisticRegression(penalty='l2', C=1, class_weight={0: 10, 1: 90}, random_state=42, solver='lbfgs')"
   ]
  },
  {
   "cell_type": "code",
   "execution_count": 58,
   "metadata": {},
   "outputs": [
    {
     "data": {
      "text/plain": [
       "LogisticRegression(C=1, class_weight={0: 10, 1: 90}, random_state=42)"
      ]
     },
     "execution_count": 58,
     "metadata": {},
     "output_type": "execute_result"
    }
   ],
   "source": [
    "logit.fit(X_train[features], y_train)"
   ]
  },
  {
   "cell_type": "code",
   "execution_count": 59,
   "metadata": {},
   "outputs": [
    {
     "name": "stdout",
     "output_type": "stream",
     "text": [
      "Coefficient: \n",
      " [[ 5.50334774e-01  3.35043204e-01 -2.78148019e-01  6.86976970e+00\n",
      "   4.10344053e-03]]\n",
      "Intercept: \n",
      " [-4.63631382]\n"
     ]
    }
   ],
   "source": [
    "print('Coefficient: \\n', logit.coef_)\n",
    "print('Intercept: \\n', logit.intercept_)"
   ]
  },
  {
   "cell_type": "code",
   "execution_count": 60,
   "metadata": {},
   "outputs": [],
   "source": [
    "# predict the target\n",
    "y_pred_log = logit.predict(X_train[features])\n",
    "\n",
    "# predict the probability\n",
    "y_pred_proba_log = logit.predict_proba(X_train[features])"
   ]
  },
  {
   "cell_type": "code",
   "execution_count": 61,
   "metadata": {},
   "outputs": [],
   "source": [
    "# Create confusion matrix, label true positive, true negative, false positive, false negative\n",
    "[tn,fp],[fn, tp] = confusion_matrix(y_train, y_pred_log)\n",
    "\n",
    "# Calculate the true positive rate, true negative rate, false positive rate, and false negative rate \n",
    "tpr = (tp / (tp+fn))\n",
    "fnr = (fn / (fn+tp))\n",
    "tnr = (tn / (tn+fp))\n",
    "fpr = (fp / (tn+fp))"
   ]
  },
  {
   "cell_type": "code",
   "execution_count": 62,
   "metadata": {},
   "outputs": [
    {
     "name": "stdout",
     "output_type": "stream",
     "text": [
      "Accuracy of Logistic Regression classifier on training set: 0.84\n",
      "\n",
      "The confusion matrix:\n",
      " [[2306  421]\n",
      " [  48   86]]\n",
      "\n",
      "Classificaiton Report:\n",
      "               precision    recall  f1-score   support\n",
      "\n",
      "           0       0.98      0.85      0.91      2727\n",
      "           1       0.17      0.64      0.27       134\n",
      "\n",
      "    accuracy                           0.84      2861\n",
      "   macro avg       0.57      0.74      0.59      2861\n",
      "weighted avg       0.94      0.84      0.88      2861\n",
      "\n",
      "\n",
      "The True Positive Rate is: 64.18%\n",
      "The False Positive Rate is: 15.44%\n",
      "The True Negative Rate is: 84.56%\n",
      "The False Negative Rate is: 35.82%\n",
      "\n",
      "Accuracy of on training set: 0.84\n",
      "Accuracy out-of-sample set: 0.84\n"
     ]
    }
   ],
   "source": [
    "print('Accuracy of Logistic Regression classifier on training set: {:.2f}\\n'\n",
    "     .format(logit.score(X_train[features], y_train)))\n",
    "print(f'The confusion matrix:\\n {confusion_matrix(y_train, y_pred_log)}\\n')\n",
    "print(f'Classificaiton Report:\\n {classification_report(y_train, y_pred_log)}\\n')\n",
    "print(f'The True Positive Rate is: {tpr:.2%}')\n",
    "print(f'The False Positive Rate is: {fpr:.2%}')\n",
    "print(f'The True Negative Rate is: {tnr:.2%}')\n",
    "print(f'The False Negative Rate is: {fnr:.2%}\\n')\n",
    "print('Accuracy of on training set: {:.2f}'\n",
    "     .format(logit.score(X_train[features], y_train)))\n",
    "print('Accuracy out-of-sample set: {:.2f}'.format(logit.score(X_validate[features], y_validate)))"
   ]
  },
  {
   "cell_type": "markdown",
   "metadata": {},
   "source": [
    "## Testing the Model"
   ]
  },
  {
   "cell_type": "markdown",
   "metadata": {},
   "source": [
    "### KNN Model had the best fit\n",
    "\n",
    "- Hyperparameters:\n",
    "    - algorithm='brute' \n",
    "    - n_neighbors=1\n",
    "    - weights='distance'"
   ]
  },
  {
   "cell_type": "code",
   "execution_count": 63,
   "metadata": {},
   "outputs": [
    {
     "name": "stdout",
     "output_type": "stream",
     "text": [
      "My baseline accuracy is: 95.32%\n",
      "\n",
      "Accuracy of on training set: 0.95\n",
      "Accuracy out-of-sample validation set: 0.95\n",
      "Accuracy out-of-sample test set: 0.93\n"
     ]
    }
   ],
   "source": [
    "print(f'My baseline accuracy is: {baseline_accuracy:.2%}\\n')\n",
    "\n",
    "print('Accuracy of on training set: {:.2f}'\n",
    "     .format(knn.score(X_train[features], y_train)))\n",
    "print('Accuracy out-of-sample validation set: {:.2f}'.format(knn.score(X_validate[features], y_validate)))\n",
    "print('Accuracy out-of-sample test set: {:.2f}'.format(knn.score(X_test[features], y_test)))"
   ]
  },
  {
   "cell_type": "code",
   "execution_count": null,
   "metadata": {},
   "outputs": [],
   "source": []
  }
 ],
 "metadata": {
  "kernelspec": {
   "display_name": "Python 3",
   "language": "python",
   "name": "python3"
  },
  "language_info": {
   "codemirror_mode": {
    "name": "ipython",
    "version": 3
   },
   "file_extension": ".py",
   "mimetype": "text/x-python",
   "name": "python",
   "nbconvert_exporter": "python",
   "pygments_lexer": "ipython3",
   "version": "3.8.5"
  }
 },
 "nbformat": 4,
 "nbformat_minor": 4
}
