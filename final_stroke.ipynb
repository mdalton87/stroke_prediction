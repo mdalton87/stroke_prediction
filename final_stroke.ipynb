{
 "cells": [
  {
   "cell_type": "markdown",
   "metadata": {
    "toc-hr-collapsed": true
   },
   "source": [
    "# Planning\n",
    "- Goals\n",
    "- Deliverables\n",
    "- How to get to the end?\n"
   ]
  },
  {
   "cell_type": "markdown",
   "metadata": {},
   "source": [
    "## Goals\n",
    "- Complete first complete pipeline project from start to finish\n",
    "- Find a model that predicts the likelihood of a person having a stroke\n",
    "- Learn a new technique during this project\n"
   ]
  },
  {
   "cell_type": "markdown",
   "metadata": {},
   "source": [
    "## Deliverables\n",
    "- A completed notebook full of visuals, commented code with markdown and comments, and machine learning models."
   ]
  },
  {
   "cell_type": "markdown",
   "metadata": {},
   "source": [
    "## How?\n",
    "- Begin by selecting and acquiring the data set\n",
    "    - I chose a data set that contains over 5100 records of patient data of stroke indicators.\n",
    "- Examine the data for missing values and obvious outliers \n",
    "- Prepare the data for exploration and statistical tests\n",
    "- Explore the univariate, bivariate, and multivariate relationships.\n",
    "- Run Stats tests to verify that the features are acceptable to be modeled\n",
    "- Create a model baseline\n",
    "- Run various models with different hyperparameters for the best results\n",
    "- Select and test the best performing model. "
   ]
  },
  {
   "cell_type": "code",
   "execution_count": 4,
   "metadata": {},
   "outputs": [],
   "source": [
    "# ignore warnings\n",
    "import warnings\n",
    "warnings.filterwarnings(\"ignore\")\n",
    "\n",
    "# Data getting, cleaning, and exploring\n",
    "import wrangle as w\n",
    "import explore as ex\n",
    "\n",
    "# Python without these is hard\n",
    "import pandas as pd\n",
    "import numpy as np\n",
    "from scipy import stats\n",
    "\n",
    "# Machine Learning\n",
    "from sklearn.model_selection import train_test_split\n",
    "from sklearn.metrics import confusion_matrix\n",
    "import sklearn.preprocessing\n",
    "from sklearn.preprocessing import MinMaxScaler \n",
    "from sklearn.impute import SimpleImputer, KNNImputer\n",
    "\n",
    "# Classification Modeling\n",
    "from sklearn.tree import DecisionTreeClassifier\n",
    "from sklearn.neighbors import KNeighborsClassifier\n",
    "from sklearn.metrics import classification_report\n",
    "from sklearn.metrics import confusion_matrix\n",
    "from sklearn.ensemble import RandomForestClassifier\n",
    "from sklearn.linear_model import LogisticRegression\n",
    "\n",
    "# Visualization\n",
    "import matplotlib.pyplot as plt\n",
    "%matplotlib inline\n",
    "import seaborn as sns\n",
    "from sklearn.tree import export_graphviz"
   ]
  },
  {
   "cell_type": "markdown",
   "metadata": {},
   "source": [
    "### Hypotheses:\n",
    "\n",
    "- Heart disease will be a driver of stroke\n",
    "- Decision tree will be my best model due to the large amount of binary features\n",
    "- Age will be a significant factor of my model\n",
    "- The dataset is too imbalaced to get an accurate prediction\n"
   ]
  },
  {
   "cell_type": "markdown",
   "metadata": {},
   "source": [
    "# Wrangle notes:\n",
    "### Changes to df:\n",
    "- set index to id\n",
    "- made ever_married into binary variable\n",
    "- replaced 'Unknown' in smoking_status as 'never_smoked'\n",
    "- created dumm variables of residence_type and gender\n",
    "- impute knn for bmi using 'age', 'avg_glucose_level', 'heart_disease', 'hypertension'\n",
    "- created current smoker feature\n",
    "- created age_bin and gluc_bin\n"
   ]
  },
  {
   "cell_type": "code",
   "execution_count": 5,
   "metadata": {},
   "outputs": [],
   "source": [
    "df = w.wrangle_stroke()"
   ]
  },
  {
   "cell_type": "code",
   "execution_count": 14,
   "metadata": {},
   "outputs": [
    {
     "name": "stdout",
     "output_type": "stream",
     "text": [
      "Your selected dataframe has 16 columns and 5110 Rows.\n",
      "There are 0 columns that have NULL values.\n"
     ]
    },
    {
     "data": {
      "text/html": [
       "<div>\n",
       "<style scoped>\n",
       "    .dataframe tbody tr th:only-of-type {\n",
       "        vertical-align: middle;\n",
       "    }\n",
       "\n",
       "    .dataframe tbody tr th {\n",
       "        vertical-align: top;\n",
       "    }\n",
       "\n",
       "    .dataframe thead th {\n",
       "        text-align: right;\n",
       "    }\n",
       "</style>\n",
       "<table border=\"1\" class=\"dataframe\">\n",
       "  <thead>\n",
       "    <tr style=\"text-align: right;\">\n",
       "      <th></th>\n",
       "      <th>Zero Values</th>\n",
       "      <th>NULL Values</th>\n",
       "      <th>% of Total NULL Values</th>\n",
       "      <th>Total Zero's plus NULL Values</th>\n",
       "      <th>% Total Zero's plus NULL Values</th>\n",
       "      <th>Data Type</th>\n",
       "    </tr>\n",
       "  </thead>\n",
       "  <tbody>\n",
       "    <tr>\n",
       "      <th>age</th>\n",
       "      <td>0</td>\n",
       "      <td>0</td>\n",
       "      <td>0.0</td>\n",
       "      <td>0</td>\n",
       "      <td>0.0</td>\n",
       "      <td>float64</td>\n",
       "    </tr>\n",
       "    <tr>\n",
       "      <th>hypertension</th>\n",
       "      <td>4612</td>\n",
       "      <td>0</td>\n",
       "      <td>0.0</td>\n",
       "      <td>4612</td>\n",
       "      <td>90.3</td>\n",
       "      <td>int64</td>\n",
       "    </tr>\n",
       "    <tr>\n",
       "      <th>heart_disease</th>\n",
       "      <td>4834</td>\n",
       "      <td>0</td>\n",
       "      <td>0.0</td>\n",
       "      <td>4834</td>\n",
       "      <td>94.6</td>\n",
       "      <td>int64</td>\n",
       "    </tr>\n",
       "    <tr>\n",
       "      <th>ever_married</th>\n",
       "      <td>1757</td>\n",
       "      <td>0</td>\n",
       "      <td>0.0</td>\n",
       "      <td>1757</td>\n",
       "      <td>34.4</td>\n",
       "      <td>int64</td>\n",
       "    </tr>\n",
       "    <tr>\n",
       "      <th>work_type</th>\n",
       "      <td>0</td>\n",
       "      <td>0</td>\n",
       "      <td>0.0</td>\n",
       "      <td>0</td>\n",
       "      <td>0.0</td>\n",
       "      <td>object</td>\n",
       "    </tr>\n",
       "    <tr>\n",
       "      <th>avg_glucose_level</th>\n",
       "      <td>0</td>\n",
       "      <td>0</td>\n",
       "      <td>0.0</td>\n",
       "      <td>0</td>\n",
       "      <td>0.0</td>\n",
       "      <td>float64</td>\n",
       "    </tr>\n",
       "    <tr>\n",
       "      <th>bmi</th>\n",
       "      <td>0</td>\n",
       "      <td>0</td>\n",
       "      <td>0.0</td>\n",
       "      <td>0</td>\n",
       "      <td>0.0</td>\n",
       "      <td>float64</td>\n",
       "    </tr>\n",
       "    <tr>\n",
       "      <th>smoking_status</th>\n",
       "      <td>0</td>\n",
       "      <td>0</td>\n",
       "      <td>0.0</td>\n",
       "      <td>0</td>\n",
       "      <td>0.0</td>\n",
       "      <td>object</td>\n",
       "    </tr>\n",
       "    <tr>\n",
       "      <th>stroke</th>\n",
       "      <td>4861</td>\n",
       "      <td>0</td>\n",
       "      <td>0.0</td>\n",
       "      <td>4861</td>\n",
       "      <td>95.1</td>\n",
       "      <td>int64</td>\n",
       "    </tr>\n",
       "    <tr>\n",
       "      <th>rural_residence</th>\n",
       "      <td>2596</td>\n",
       "      <td>0</td>\n",
       "      <td>0.0</td>\n",
       "      <td>2596</td>\n",
       "      <td>50.8</td>\n",
       "      <td>uint8</td>\n",
       "    </tr>\n",
       "    <tr>\n",
       "      <th>urban_residence</th>\n",
       "      <td>2514</td>\n",
       "      <td>0</td>\n",
       "      <td>0.0</td>\n",
       "      <td>2514</td>\n",
       "      <td>49.2</td>\n",
       "      <td>uint8</td>\n",
       "    </tr>\n",
       "    <tr>\n",
       "      <th>is_female</th>\n",
       "      <td>2116</td>\n",
       "      <td>0</td>\n",
       "      <td>0.0</td>\n",
       "      <td>2116</td>\n",
       "      <td>41.4</td>\n",
       "      <td>uint8</td>\n",
       "    </tr>\n",
       "    <tr>\n",
       "      <th>is_male</th>\n",
       "      <td>2995</td>\n",
       "      <td>0</td>\n",
       "      <td>0.0</td>\n",
       "      <td>2995</td>\n",
       "      <td>58.6</td>\n",
       "      <td>uint8</td>\n",
       "    </tr>\n",
       "    <tr>\n",
       "      <th>current_smoker</th>\n",
       "      <td>4321</td>\n",
       "      <td>0</td>\n",
       "      <td>0.0</td>\n",
       "      <td>4321</td>\n",
       "      <td>84.6</td>\n",
       "      <td>int64</td>\n",
       "    </tr>\n",
       "    <tr>\n",
       "      <th>age_bin</th>\n",
       "      <td>507</td>\n",
       "      <td>0</td>\n",
       "      <td>0.0</td>\n",
       "      <td>507</td>\n",
       "      <td>9.9</td>\n",
       "      <td>category</td>\n",
       "    </tr>\n",
       "    <tr>\n",
       "      <th>gluc_bin</th>\n",
       "      <td>0</td>\n",
       "      <td>0</td>\n",
       "      <td>0.0</td>\n",
       "      <td>0</td>\n",
       "      <td>0.0</td>\n",
       "      <td>category</td>\n",
       "    </tr>\n",
       "  </tbody>\n",
       "</table>\n",
       "</div>"
      ],
      "text/plain": [
       "                   Zero Values  NULL Values  % of Total NULL Values  \\\n",
       "age                          0            0                     0.0   \n",
       "hypertension              4612            0                     0.0   \n",
       "heart_disease             4834            0                     0.0   \n",
       "ever_married              1757            0                     0.0   \n",
       "work_type                    0            0                     0.0   \n",
       "avg_glucose_level            0            0                     0.0   \n",
       "bmi                          0            0                     0.0   \n",
       "smoking_status               0            0                     0.0   \n",
       "stroke                    4861            0                     0.0   \n",
       "rural_residence           2596            0                     0.0   \n",
       "urban_residence           2514            0                     0.0   \n",
       "is_female                 2116            0                     0.0   \n",
       "is_male                   2995            0                     0.0   \n",
       "current_smoker            4321            0                     0.0   \n",
       "age_bin                    507            0                     0.0   \n",
       "gluc_bin                     0            0                     0.0   \n",
       "\n",
       "                   Total Zero's plus NULL Values  \\\n",
       "age                                            0   \n",
       "hypertension                                4612   \n",
       "heart_disease                               4834   \n",
       "ever_married                                1757   \n",
       "work_type                                      0   \n",
       "avg_glucose_level                              0   \n",
       "bmi                                            0   \n",
       "smoking_status                                 0   \n",
       "stroke                                      4861   \n",
       "rural_residence                             2596   \n",
       "urban_residence                             2514   \n",
       "is_female                                   2116   \n",
       "is_male                                     2995   \n",
       "current_smoker                              4321   \n",
       "age_bin                                      507   \n",
       "gluc_bin                                       0   \n",
       "\n",
       "                   % Total Zero's plus NULL Values Data Type  \n",
       "age                                            0.0   float64  \n",
       "hypertension                                  90.3     int64  \n",
       "heart_disease                                 94.6     int64  \n",
       "ever_married                                  34.4     int64  \n",
       "work_type                                      0.0    object  \n",
       "avg_glucose_level                              0.0   float64  \n",
       "bmi                                            0.0   float64  \n",
       "smoking_status                                 0.0    object  \n",
       "stroke                                        95.1     int64  \n",
       "rural_residence                               50.8     uint8  \n",
       "urban_residence                               49.2     uint8  \n",
       "is_female                                     41.4     uint8  \n",
       "is_male                                       58.6     uint8  \n",
       "current_smoker                                84.6     int64  \n",
       "age_bin                                        9.9  category  \n",
       "gluc_bin                                       0.0  category  "
      ]
     },
     "execution_count": 14,
     "metadata": {},
     "output_type": "execute_result"
    }
   ],
   "source": [
    "# shows that columns are not missing any data\n",
    "w.missing_zero_values_table(df) "
   ]
  },
  {
   "cell_type": "code",
   "execution_count": 15,
   "metadata": {},
   "outputs": [
    {
     "data": {
      "text/html": [
       "<div>\n",
       "<style scoped>\n",
       "    .dataframe tbody tr th:only-of-type {\n",
       "        vertical-align: middle;\n",
       "    }\n",
       "\n",
       "    .dataframe tbody tr th {\n",
       "        vertical-align: top;\n",
       "    }\n",
       "\n",
       "    .dataframe thead th {\n",
       "        text-align: right;\n",
       "    }\n",
       "</style>\n",
       "<table border=\"1\" class=\"dataframe\">\n",
       "  <thead>\n",
       "    <tr style=\"text-align: right;\">\n",
       "      <th></th>\n",
       "      <th>total_missing_cols</th>\n",
       "      <th>num_rows</th>\n",
       "      <th>percent_cols_missing</th>\n",
       "      <th>percent_rows_affected</th>\n",
       "    </tr>\n",
       "  </thead>\n",
       "  <tbody>\n",
       "    <tr>\n",
       "      <th>0</th>\n",
       "      <td>0</td>\n",
       "      <td>5110</td>\n",
       "      <td>0.0</td>\n",
       "      <td>100.0</td>\n",
       "    </tr>\n",
       "  </tbody>\n",
       "</table>\n",
       "</div>"
      ],
      "text/plain": [
       "   total_missing_cols  num_rows  percent_cols_missing  percent_rows_affected\n",
       "0                   0      5110                   0.0                  100.0"
      ]
     },
     "execution_count": 15,
     "metadata": {},
     "output_type": "execute_result"
    }
   ],
   "source": [
    "# shows that the no records are missing any data \n",
    "w.missing_columns(df)"
   ]
  },
  {
   "cell_type": "code",
   "execution_count": 16,
   "metadata": {},
   "outputs": [
    {
     "data": {
      "text/plain": [
       "['age',\n",
       " 'hypertension',\n",
       " 'heart_disease',\n",
       " 'ever_married',\n",
       " 'work_type',\n",
       " 'avg_glucose_level',\n",
       " 'bmi',\n",
       " 'smoking_status',\n",
       " 'stroke',\n",
       " 'rural_residence',\n",
       " 'urban_residence',\n",
       " 'is_female',\n",
       " 'is_male',\n",
       " 'current_smoker',\n",
       " 'age_bin',\n",
       " 'gluc_bin']"
      ]
     },
     "execution_count": 16,
     "metadata": {},
     "output_type": "execute_result"
    }
   ],
   "source": [
    "list(df.columns)"
   ]
  },
  {
   "cell_type": "code",
   "execution_count": 12,
   "metadata": {},
   "outputs": [],
   "source": [
    "# organize my data into various groups of columns in the form of list\n",
    "quant_cols = ['age', 'bmi']\n",
    "bin_cols = ['hypertension','heart_disease','ever_married','rural_residence','urban_residence', 'current_smoker', 'is_female', 'is_male']\n",
    "target = 'stroke'\n",
    "cat_cols = ['work_type', 'smoking_status',]"
   ]
  },
  {
   "cell_type": "code",
   "execution_count": 17,
   "metadata": {},
   "outputs": [
    {
     "data": {
      "image/png": "[encoded data removed]",
      "text/plain": [
       "<Figure size 144x144 with 1 Axes>"
      ]
     },
     "metadata": {
      "needs_background": "light"
     },
     "output_type": "display_data"
    },
    {
     "name": "stdout",
     "output_type": "stream",
     "text": [
      "                   work_type  Count  Percent\n",
      "Private              Private   2925    57.24\n",
      "Self-employed  Self-employed    819    16.03\n",
      "children            Govt_job    687    13.44\n",
      "Govt_job            children    657    12.86\n",
      "Never_worked    Never_worked     22     0.43\n",
      "_________________________________________________________________\n"
     ]
    },
    {
     "data": {
      "image/png": "[encoded data removed]",
      "text/plain": [
       "<Figure size 144x144 with 1 Axes>"
      ]
     },
     "metadata": {
      "needs_background": "light"
     },
     "output_type": "display_data"
    },
    {
     "name": "stdout",
     "output_type": "stream",
     "text": [
      "                  smoking_status  Count  Percent\n",
      "never smoked     formerly smoked   3436    67.24\n",
      "formerly smoked     never smoked    885    17.32\n",
      "smokes                    smokes    789    15.44\n",
      "_________________________________________________________________\n"
     ]
    },
    {
     "data": {
      "image/png": "[encoded data removed]",
      "text/plain": [
       "<Figure size 576x144 with 2 Axes>"
      ]
     },
     "metadata": {
      "needs_background": "light"
     },
     "output_type": "display_data"
    },
    {
     "name": "stdout",
     "output_type": "stream",
     "text": [
      "count    5110.000000\n",
      "mean       43.226614\n",
      "std        22.612647\n",
      "min         0.080000\n",
      "25%        25.000000\n",
      "50%        45.000000\n",
      "75%        61.000000\n",
      "max        82.000000\n",
      "Name: age, dtype: float64\n"
     ]
    },
    {
     "data": {
      "image/png": "[encoded data removed]",
      "text/plain": [
       "<Figure size 576x144 with 2 Axes>"
      ]
     },
     "metadata": {
      "needs_background": "light"
     },
     "output_type": "display_data"
    },
    {
     "name": "stdout",
     "output_type": "stream",
     "text": [
      "count    5110.000000\n",
      "mean       28.941370\n",
      "std         7.767288\n",
      "min        10.300000\n",
      "25%        23.700000\n",
      "50%        28.200000\n",
      "75%        33.100000\n",
      "max        97.600000\n",
      "Name: bmi, dtype: float64\n"
     ]
    }
   ],
   "source": [
    "# explore univariate information. \n",
    "ex.explore_univariate(df, cat_cols, quant_cols)"
   ]
  },
  {
   "cell_type": "markdown",
   "metadata": {},
   "source": [
    "# Univariate Takeaways\n",
    "\n",
    "- Age is pretty even across the board\n",
    "- Most work is in private sector\n",
    "- Avg. glucose and bmi have a right skew, I assume they are related"
   ]
  },
  {
   "cell_type": "code",
   "execution_count": 18,
   "metadata": {},
   "outputs": [],
   "source": [
    "# Split data\n",
    "train, validate, test = w.train_validate_test_split(df, target, 42)"
   ]
  },
  {
   "cell_type": "code",
   "execution_count": 19,
   "metadata": {},
   "outputs": [],
   "source": [
    "# Scale data\n",
    "train, validate, test = w.train_validate_test_scale(train, validate, test, quant_cols)"
   ]
  },
  {
   "cell_type": "code",
   "execution_count": 20,
   "metadata": {},
   "outputs": [
    {
     "name": "stdout",
     "output_type": "stream",
     "text": [
      "hypertension \n",
      "_____________________\n",
      "\n",
      "\n",
      "Mann Whitney Test Comparing Means:  MannwhitneyuResult(statistic=322168.0, pvalue=1.2567006838996058e-10)\n",
      "        chi2       p-value  degrees of freedom\n",
      "0  39.508251  3.266762e-10                   1\n",
      "\n",
      "expected:\n",
      "              0           1\n",
      "0  2462.263544  125.736456\n",
      "1   259.736456   13.263544\n"
     ]
    },
    {
     "data": {
      "image/png": "[encoded data removed]",
      "text/plain": [
       "<Figure size 144x144 with 1 Axes>"
      ]
     },
     "metadata": {
      "needs_background": "light"
     },
     "output_type": "display_data"
    },
    {
     "name": "stdout",
     "output_type": "stream",
     "text": [
      "\n",
      "_____________________\n",
      "\n",
      "heart_disease \n",
      "_____________________\n",
      "\n",
      "\n",
      "Mann Whitney Test Comparing Means:  MannwhitneyuResult(statistic=184810.0, pvalue=1.9726071753895014e-10)\n",
      "       chi2       p-value  degrees of freedom\n",
      "0  38.09415  6.741193e-10                   1\n",
      "\n",
      "expected:\n",
      "              0           1\n",
      "0  2575.481999  131.518001\n",
      "1   146.518001    7.481999\n"
     ]
    },
    {
     "data": {
      "image/png": "[encoded data removed]",
      "text/plain": [
       "<Figure size 144x144 with 1 Axes>"
      ]
     },
     "metadata": {
      "needs_background": "light"
     },
     "output_type": "display_data"
    },
    {
     "name": "stdout",
     "output_type": "stream",
     "text": [
      "\n",
      "_____________________\n",
      "\n",
      "ever_married \n",
      "_____________________\n",
      "\n",
      "\n",
      "Mann Whitney Test Comparing Means:  MannwhitneyuResult(statistic=876508.0, pvalue=2.494285590593184e-07)\n",
      "        chi2       p-value  degrees of freedom\n",
      "0  25.676779  4.036550e-07                   1\n",
      "\n",
      "expected:\n",
      "              0          1\n",
      "0   921.921706  47.078294\n",
      "1  1800.078294  91.921706\n"
     ]
    },
    {
     "data": {
      "image/png": "[encoded data removed]",
      "text/plain": [
       "<Figure size 144x144 with 1 Axes>"
      ]
     },
     "metadata": {
      "needs_background": "light"
     },
     "output_type": "display_data"
    },
    {
     "name": "stdout",
     "output_type": "stream",
     "text": [
      "\n",
      "_____________________\n",
      "\n",
      "rural_residence \n",
      "_____________________\n",
      "\n",
      "\n",
      "Mann Whitney Test Comparing Means:  MannwhitneyuResult(statistic=1031107.0, pvalue=0.3031142684141561)\n",
      "       chi2   p-value  degrees of freedom\n",
      "0  0.889322  0.345661                   1\n",
      "\n",
      "expected:\n",
      "              0          1\n",
      "0  1391.921007  71.078993\n",
      "1  1330.078993  67.921007\n"
     ]
    },
    {
     "data": {
      "image/png": "[encoded data removed]",
      "text/plain": [
       "<Figure size 144x144 with 1 Axes>"
      ]
     },
     "metadata": {
      "needs_background": "light"
     },
     "output_type": "display_data"
    },
    {
     "name": "stdout",
     "output_type": "stream",
     "text": [
      "\n",
      "_____________________\n",
      "\n",
      "urban_residence \n",
      "_____________________\n",
      "\n",
      "\n",
      "Mann Whitney Test Comparing Means:  MannwhitneyuResult(statistic=1014167.0, pvalue=0.3031142684141561)\n",
      "       chi2   p-value  degrees of freedom\n",
      "0  0.889322  0.345661                   1\n",
      "\n",
      "expected:\n",
      "              0          1\n",
      "0  1330.078993  67.921007\n",
      "1  1391.921007  71.078993\n"
     ]
    },
    {
     "data": {
      "image/png": "[encoded data removed]",
      "text/plain": [
       "<Figure size 144x144 with 1 Axes>"
      ]
     },
     "metadata": {
      "needs_background": "light"
     },
     "output_type": "display_data"
    },
    {
     "name": "stdout",
     "output_type": "stream",
     "text": [
      "\n",
      "_____________________\n",
      "\n",
      "current_smoker \n",
      "_____________________\n",
      "\n",
      "\n",
      "Mann Whitney Test Comparing Means:  MannwhitneyuResult(statistic=528868.0, pvalue=0.5273624467863935)\n",
      "       chi2   p-value  degrees of freedom\n",
      "0  0.261846  0.608855                   1\n",
      "\n",
      "expected:\n",
      "              0           1\n",
      "0  2303.377141  117.622859\n",
      "1   418.622859   21.377141\n"
     ]
    },
    {
     "data": {
      "image/png": "[encoded data removed]",
      "text/plain": [
       "<Figure size 144x144 with 1 Axes>"
      ]
     },
     "metadata": {
      "needs_background": "light"
     },
     "output_type": "display_data"
    },
    {
     "name": "stdout",
     "output_type": "stream",
     "text": [
      "\n",
      "_____________________\n",
      "\n",
      "is_female \n",
      "_____________________\n",
      "\n",
      "\n",
      "Mann Whitney Test Comparing Means:  MannwhitneyuResult(statistic=985256.0, pvalue=0.9769279145242019)\n",
      "       chi2   p-value  degrees of freedom\n",
      "0  0.003554  0.952461                   1\n",
      "\n",
      "expected:\n",
      "              0          1\n",
      "0  1099.836421  56.163579\n",
      "1  1622.163579  82.836421\n"
     ]
    },
    {
     "data": {
      "image/png": "[encoded data removed]",
      "text/plain": [
       "<Figure size 144x144 with 1 Axes>"
      ]
     },
     "metadata": {
      "needs_background": "light"
     },
     "output_type": "display_data"
    },
    {
     "name": "stdout",
     "output_type": "stream",
     "text": [
      "\n",
      "_____________________\n",
      "\n",
      "is_male \n",
      "_____________________\n",
      "\n",
      "\n",
      "Mann Whitney Test Comparing Means:  MannwhitneyuResult(statistic=985379.5, pvalue=0.983791788944853)\n",
      "       chi2   p-value  degrees of freedom\n",
      "0  0.004656  0.945598                   1\n",
      "\n",
      "expected:\n",
      "              0          1\n",
      "0  1623.114995  82.885005\n",
      "1  1098.885005  56.114995\n"
     ]
    },
    {
     "data": {
      "image/png": "[encoded data removed]",
      "text/plain": [
       "<Figure size 144x144 with 1 Axes>"
      ]
     },
     "metadata": {
      "needs_background": "light"
     },
     "output_type": "display_data"
    },
    {
     "name": "stdout",
     "output_type": "stream",
     "text": [
      "\n",
      "_____________________\n",
      "\n",
      "age \n",
      "____________________\n",
      "\n"
     ]
    },
    {
     "data": {
      "image/png": "[encoded data removed]",
      "text/plain": [
       "<Figure size 288x288 with 1 Axes>"
      ]
     },
     "metadata": {
      "needs_background": "light"
     },
     "output_type": "display_data"
    },
    {
     "data": {
      "image/png": "[encoded data removed]",
      "text/plain": [
       "<Figure size 432x288 with 1 Axes>"
      ]
     },
     "metadata": {
      "needs_background": "light"
     },
     "output_type": "display_data"
    },
    {
     "name": "stdout",
     "output_type": "stream",
     "text": [
      "stroke            0           1\n",
      "count   2722.000000  139.000000\n",
      "mean       0.512886    0.822104\n",
      "std        0.273150    0.151833\n",
      "min        0.000000    0.015137\n",
      "25%        0.304199    0.707031\n",
      "50%        0.523926    0.853516\n",
      "75%        0.731445    0.951172\n",
      "max        1.000000    1.000000 \n",
      "\n",
      "\n",
      "Spearman's Correlation Test:\n",
      " SpearmanrResult(correlation=0.24606603601358915, pvalue=1.0100123454668368e-40)\n",
      "\n",
      "____________________\n",
      "\n",
      "bmi \n",
      "____________________\n",
      "\n"
     ]
    },
    {
     "data": {
      "image/png": "[encoded data removed]",
      "text/plain": [
       "<Figure size 288x288 with 1 Axes>"
      ]
     },
     "metadata": {
      "needs_background": "light"
     },
     "output_type": "display_data"
    },
    {
     "data": {
      "image/png": "[encoded data removed]",
      "text/plain": [
       "<Figure size 432x288 with 1 Axes>"
      ]
     },
     "metadata": {
      "needs_background": "light"
     },
     "output_type": "display_data"
    },
    {
     "name": "stdout",
     "output_type": "stream",
     "text": [
      "stroke            0           1\n",
      "count   2722.000000  139.000000\n",
      "mean       0.205051    0.222965\n",
      "std        0.093733    0.071975\n",
      "min        0.000000    0.064890\n",
      "25%        0.142526    0.175261\n",
      "50%        0.194670    0.215527\n",
      "75%        0.253766    0.261877\n",
      "max        1.000000    0.524913 \n",
      "\n",
      "\n",
      "Spearman's Correlation Test:\n",
      " SpearmanrResult(correlation=0.0592534692417689, pvalue=0.001520358005297463)\n",
      "\n",
      "____________________\n",
      "\n"
     ]
    }
   ],
   "source": [
    "# explore each variable against the target variable\n",
    "ex.explore_bivariate(train, target, target, bin_cols, quant_cols)"
   ]
  },
  {
   "cell_type": "markdown",
   "metadata": {
    "toc-hr-collapsed": true
   },
   "source": [
    "# Bivariate takeaways\n",
    "\n",
    "- Good features:\n",
    "    - hypertension\n",
    "    - heart disease\n",
    "    - ever married\n",
    "    - age\n",
    "    - glucose\n",
    "- Bad features:\n",
    "    - residency\n",
    "    - gender\n",
    "    - current smoker\n",
    "- Need more info:\n",
    "    - bmi\n",
    "    - ever_smoked...\n",
    "   "
   ]
  },
  {
   "cell_type": "code",
   "execution_count": 28,
   "metadata": {},
   "outputs": [
    {
     "data": {
      "text/plain": [
       "<AxesSubplot:xlabel='work_type', ylabel='count'>"
      ]
     },
     "execution_count": 28,
     "metadata": {},
     "output_type": "execute_result"
    },
    {
     "data": {
      "image/png": "[encoded data removed]",
      "text/plain": [
       "<Figure size 432x288 with 1 Axes>"
      ]
     },
     "metadata": {
      "needs_background": "light"
     },
     "output_type": "display_data"
    }
   ],
   "source": [
    "# Wanted to get a closer look at work_type relationship with stroke\n",
    "sns.countplot(data=train, x='work_type', hue='stroke')\n",
    "\n",
    "# Private sector had the highest number of strokes\n",
    "# however that is most likely due to that larger number of \n",
    "# private sector workers"
   ]
  },
  {
   "cell_type": "markdown",
   "metadata": {
    "toc-hr-collapsed": true
   },
   "source": [
    "## Work_type and Stroke\n",
    "\n",
    "- Wanted to get a closer look at work_type relationship with stroke.\n",
    "    - Private sector had the highest number of strokes, however, that is most likely due to that larger number of private sector workers."
   ]
  },
  {
   "cell_type": "markdown",
   "metadata": {
    "toc-hr-collapsed": true
   },
   "source": [
    "# Statistical Analysis"
   ]
  },
  {
   "cell_type": "markdown",
   "metadata": {},
   "source": [
    "### χ<sup>2</sup> Test\n",
    "\n",
    "The χ<sup>2</sup> test allows me to test for independence of 2 categorical variables."
   ]
  },
  {
   "cell_type": "markdown",
   "metadata": {},
   "source": [
    "### Confidence \n",
    "\n",
    "- Confidence level will be 99%\n",
    "- Alpha will be 0.01 \n",
    "- p-value must be below 0.01 to be statistically sigificant"
   ]
  },
  {
   "cell_type": "markdown",
   "metadata": {},
   "source": [
    "### Hypothesis\n",
    "- The null hypothesis (H<sub>0</sub>) is: hypertension is independent from stroke\n",
    "- The alternate hypothesis (H<sub>1</sub>) is: hypertension and stroke are dependent"
   ]
  },
  {
   "cell_type": "code",
   "execution_count": 21,
   "metadata": {},
   "outputs": [
    {
     "name": "stdout",
     "output_type": "stream",
     "text": [
      "Observed\n",
      "\n",
      "[[2484  104]\n",
      " [ 238   35]]\n",
      "---\n",
      "Expected\n",
      "\n",
      "[[2462.26354422  125.73645578]\n",
      " [ 259.73645578   13.26354422]]\n",
      "---\n",
      "\n",
      "chi^2 = 39.5083\n",
      "p     = 0.0000\n",
      "\n",
      "Becasue the p-value: 0.0 is less than alpha: 0.01, we can reject the null hypothesis\n"
     ]
    }
   ],
   "source": [
    "ex.chi2(train, 'hypertension', 'stroke', 0.01)"
   ]
  },
  {
   "cell_type": "markdown",
   "metadata": {},
   "source": [
    "### Hypothesis\n",
    "- H<sub>0</sub> is: heart diease is independent from stroke\n",
    "- H<sub>1</sub> is: heart disease and stroke are dependent"
   ]
  },
  {
   "cell_type": "code",
   "execution_count": 22,
   "metadata": {},
   "outputs": [
    {
     "name": "stdout",
     "output_type": "stream",
     "text": [
      "Observed\n",
      "\n",
      "[[2592  115]\n",
      " [ 130   24]]\n",
      "---\n",
      "Expected\n",
      "\n",
      "[[2575.4819993  131.5180007]\n",
      " [ 146.5180007    7.4819993]]\n",
      "---\n",
      "\n",
      "chi^2 = 38.0942\n",
      "p     = 0.0000\n",
      "\n",
      "Becasue the p-value: 0.0 is less than alpha: 0.01, we can reject the null hypothesis\n"
     ]
    }
   ],
   "source": [
    "ex.chi2(train, 'heart_disease', 'stroke', 0.01)"
   ]
  },
  {
   "cell_type": "markdown",
   "metadata": {},
   "source": [
    "### Hypothesis\n",
    "- H<sub>0</sub> is: ever married is independent from stroke\n",
    "- H<sub>1</sub> is: ever married and stroke are dependent"
   ]
  },
  {
   "cell_type": "code",
   "execution_count": 23,
   "metadata": {},
   "outputs": [
    {
     "name": "stdout",
     "output_type": "stream",
     "text": [
      "Observed\n",
      "\n",
      "[[ 950   19]\n",
      " [1772  120]]\n",
      "---\n",
      "Expected\n",
      "\n",
      "[[ 921.9217057   47.0782943]\n",
      " [1800.0782943   91.9217057]]\n",
      "---\n",
      "\n",
      "chi^2 = 25.6768\n",
      "p     = 0.0000\n",
      "\n",
      "Becasue the p-value: 0.0 is less than alpha: 0.01, we can reject the null hypothesis\n"
     ]
    }
   ],
   "source": [
    "ex.chi2(train, 'ever_married', 'stroke', 0.01)"
   ]
  },
  {
   "cell_type": "markdown",
   "metadata": {},
   "source": [
    "### T-Test\n",
    "\n",
    "- The T-test allows me to compare the means of 2 subgroups"
   ]
  },
  {
   "cell_type": "markdown",
   "metadata": {},
   "source": [
    "### Confidence \n",
    "\n",
    "- Confidence level will be 99%\n",
    "- Alpha will be 0.01 \n",
    "- p-value must be below 0.01 to be statistically sigificant"
   ]
  },
  {
   "cell_type": "markdown",
   "metadata": {},
   "source": [
    "### Hypothesis: Age of those who have had a stroke vs. the age of the those who have not had a stroke\n",
    "\n",
    "#### Two Sample, One Tail T-test\n",
    "\n",
    "- H<sub>0</sub> is: The age of those who have not had a stroke is equal to or higher than the age of those who have had a stroke.\n",
    "- H<sub>1</sub> is: The age of those who have not had a stroke is significantly less than the age of those who have had a stroke."
   ]
  },
  {
   "cell_type": "code",
   "execution_count": 28,
   "metadata": {},
   "outputs": [],
   "source": [
    "# population_1: Series of train.age column filtering out those who have NOT had a stroke.\n",
    "age_no_stroke = train[train.stroke == 0].age\n",
    "\n",
    "# population_2: Series of train.age column filtering out those who have had a stroke\n",
    "age_stroke = train[train.stroke == 1].age"
   ]
  },
  {
   "cell_type": "code",
   "execution_count": 29,
   "metadata": {},
   "outputs": [
    {
     "data": {
      "text/plain": [
       "<AxesSubplot:xlabel='stroke', ylabel='age'>"
      ]
     },
     "execution_count": 29,
     "metadata": {},
     "output_type": "execute_result"
    },
    {
     "data": {
      "image/png": "[encoded data removed]",
      "text/plain": [
       "<Figure size 432x288 with 1 Axes>"
      ]
     },
     "metadata": {
      "needs_background": "light"
     },
     "output_type": "display_data"
    }
   ],
   "source": [
    "# Visual to explain why I think this would be a great feature\n",
    "sns.boxenplot(data=train, y='age', x='stroke')"
   ]
  },
  {
   "cell_type": "code",
   "execution_count": 30,
   "metadata": {},
   "outputs": [
    {
     "name": "stdout",
     "output_type": "stream",
     "text": [
      "t-stat = -13.241\n",
      "p     = 0.0\n",
      "\n",
      "Because the p-value: 0.0 is less than alpha: 0.01 and the t-stat: -13.241 is less than 0, we reject the null hypothesis\n"
     ]
    }
   ],
   "source": [
    "# Running a 2 sample, 1 tail, t-test, predicting that the age of \n",
    "# people who have not had a stroke is lower than those who have \n",
    "# had a stroke.\n",
    "\n",
    "ex.t_test(age_no_stroke, age_stroke, 0.01, sample=2, tail=1, tail_dir='lower')"
   ]
  },
  {
   "cell_type": "markdown",
   "metadata": {},
   "source": [
    "### Hypothesis: Average glucose level of those who have had a stroke and the average glucose level of those who have not had a stroke.\n",
    "\n",
    "#### Two Sample, Two Tail T-test\n",
    "\n",
    "- H<sub>0</sub> is: there is no difference in the glucose levels of those who had a stroke and those who did not\n",
    "- H<sub>1</sub> is: there is a significant difference in the gluclose levels of those who had a stroke and those who did not"
   ]
  },
  {
   "cell_type": "code",
   "execution_count": 31,
   "metadata": {},
   "outputs": [],
   "source": [
    "# population_1: Series of train.avg_glucose_level filtering for those WITHOUT a stroke\n",
    "gluc_no_stroke = train[train.stroke == 0].avg_glucose_level\n",
    "\n",
    "# population_2: Series of train.avg_glucose_level filtering for those WITH a stroke\n",
    "gluc_stroke = train[train.stroke == 1].avg_glucose_level"
   ]
  },
  {
   "cell_type": "code",
   "execution_count": 32,
   "metadata": {},
   "outputs": [
    {
     "data": {
      "text/plain": [
       "<AxesSubplot:xlabel='stroke', ylabel='avg_glucose_level'>"
      ]
     },
     "execution_count": 32,
     "metadata": {},
     "output_type": "execute_result"
    },
    {
     "data": {
      "image/png": "[encoded data removed]",
      "text/plain": [
       "<Figure size 432x288 with 1 Axes>"
      ]
     },
     "metadata": {
      "needs_background": "light"
     },
     "output_type": "display_data"
    }
   ],
   "source": [
    "# Visual of avg_glucose_level and stroke\n",
    "sns.boxenplot(data=train, y='avg_glucose_level', x='stroke')"
   ]
  },
  {
   "cell_type": "code",
   "execution_count": 33,
   "metadata": {},
   "outputs": [
    {
     "name": "stdout",
     "output_type": "stream",
     "text": [
      "t-stat = -7.0421\n",
      "p     = 0.0\n",
      "\n",
      "Because the p-value: 0.0 is less than the alpha: 0.01, we reject the null hypothesis\n"
     ]
    }
   ],
   "source": [
    "# Running a 2 sample, 2 tail, t-test, predicting that the average glucose\n",
    "# level of people who have not had a stroke is sigificantly different than \n",
    "# those who have had a stroke.\n",
    "\n",
    "ex.t_test(gluc_no_stroke, gluc_stroke, 0.01, sample=2)"
   ]
  },
  {
   "cell_type": "markdown",
   "metadata": {},
   "source": [
    "## Statistical Summary\n",
    "\n",
    "### χ<sup>2</sup> Results\n",
    "- heart_disease, hypertension, and ever_married all rejected the null hypothesis\n",
    "- It is now assumed that there is a dependency of each variable and stroke.\n",
    "\n",
    "### T-test Results\n",
    "- a two sample one tail t-test was performed on age of those who had a stroke and those who did not have a stroke.\n",
    "- the null hypothesis was rejected.\n",
    "- the t-test proved that the age of those who have not had a stroke was significantly less than the age of those who have had a stroke.\n",
    "\n",
    "- a two sample two tail t-test was performed on average glucose levels of those who had a stroke and those who did not have a stroke.\n",
    "- the null hypothesis was rejected."
   ]
  },
  {
   "cell_type": "markdown",
   "metadata": {},
   "source": [
    "# Modeling: Classification"
   ]
  },
  {
   "cell_type": "markdown",
   "metadata": {},
   "source": [
    "### What am I looking for?\n",
    "- In these models I will be looking to the ones that produce the highest Recall or Sensitivity. \n",
    "- I need the model that produce as many True Positives are False Negatives as possible. \n",
    "- Accuracy in this case will not produce the best predictions since it will not capture most people who will have a stroke."
   ]
  },
  {
   "cell_type": "code",
   "execution_count": 34,
   "metadata": {},
   "outputs": [],
   "source": [
    "X_train = train.drop(columns=['stroke'])\n",
    "y_train = train.stroke\n",
    "\n",
    "X_validate = validate.drop(columns=['stroke'])\n",
    "y_validate = validate.stroke\n",
    "\n",
    "X_test = test.drop(columns=['stroke'])\n",
    "y_test = test.stroke"
   ]
  },
  {
   "cell_type": "code",
   "execution_count": 35,
   "metadata": {},
   "outputs": [],
   "source": [
    "# create list of features that will be used for modeling.\n",
    "features = ['hypertension', 'heart_disease', 'ever_married', 'age_bin', 'gluc_bin']"
   ]
  },
  {
   "cell_type": "markdown",
   "metadata": {},
   "source": [
    "### Baseline"
   ]
  },
  {
   "cell_type": "code",
   "execution_count": 36,
   "metadata": {},
   "outputs": [
    {
     "data": {
      "text/plain": [
       "0    2722\n",
       "1     139\n",
       "Name: stroke, dtype: int64"
      ]
     },
     "execution_count": 36,
     "metadata": {},
     "output_type": "execute_result"
    }
   ],
   "source": [
    "# find out the mode of the target variable\n",
    "train.stroke.value_counts()"
   ]
  },
  {
   "cell_type": "code",
   "execution_count": 37,
   "metadata": {},
   "outputs": [
    {
     "name": "stdout",
     "output_type": "stream",
     "text": [
      "My baseline prediction is survived = 0\n",
      "My baseline accuracy is: 95.14%\n"
     ]
    }
   ],
   "source": [
    "# Establish new column that contains the mode\n",
    "train[\"most_frequent\"] = 0\n",
    "\n",
    "# Calcuate the baseline accuracy\n",
    "baseline_accuracy = (train.stroke == train.most_frequent).mean()\n",
    "print(f'My baseline prediction is survived = 0')\n",
    "print(f'My baseline accuracy is: {baseline_accuracy:.2%}')"
   ]
  },
  {
   "cell_type": "markdown",
   "metadata": {},
   "source": [
    "### Model Selection Tools\n",
    "- During this project I stumbled upon some helpful tool in selecting the hyperparameters for each model. \n",
    "- This tool is the GridSearchCV from sklearn.model_selection. \n",
    "    - This tool takes in a model, a dictionary of parameters, and a scoring parameter.\n",
    "    - With a for loop it is easy to see what this tool does"
   ]
  },
  {
   "cell_type": "code",
   "execution_count": 39,
   "metadata": {},
   "outputs": [],
   "source": [
    "from sklearn.model_selection import RandomizedSearchCV, GridSearchCV\n",
    "from scipy.stats import uniform"
   ]
  },
  {
   "cell_type": "code",
   "execution_count": 40,
   "metadata": {},
   "outputs": [],
   "source": [
    "# Create a parameter dictionary for the model, {'parameter': [list of settings]}\n",
    "parameters = [\n",
    "    {\n",
    "    'algorithm': ['auto', 'ball_tree', 'kd_tree', 'brute'],\n",
    "    'n_neighbors': [1, 3, 5, 7, 9],\n",
    "    'weights': ['distance'],\n",
    "    },\n",
    "]\n",
    "# Created variable model which holds the KNN model\n",
    "model = KNeighborsClassifier()\n",
    "\n",
    "# Create grid_search model, looking at recall\n",
    "grid_search = GridSearchCV(model,\n",
    "                           param_grid=parameters,\n",
    "                           cv=5,\n",
    "                           scoring='recall',\n",
    "                           )\n",
    "\n",
    "# Create variable r that hold the FIT grid_search\n",
    "r = grid_search.fit(X_train[features], y_train)\n",
    "scores = r.cv_results_\n",
    "knn = r.best_estimator_\n"
   ]
  },
  {
   "cell_type": "code",
   "execution_count": 41,
   "metadata": {},
   "outputs": [
    {
     "data": {
      "text/plain": [
       "0.19417989417989417"
      ]
     },
     "execution_count": 41,
     "metadata": {},
     "output_type": "execute_result"
    }
   ],
   "source": [
    "# Returns max value of the mean test score \n",
    "max(scores['mean_test_score'])"
   ]
  },
  {
   "cell_type": "code",
   "execution_count": 62,
   "metadata": {},
   "outputs": [
    {
     "name": "stdout",
     "output_type": "stream",
     "text": [
      "0.014285714285714285 {'algorithm': 'auto', 'n_neighbors': 9, 'weights': 'distance'}\n",
      "0.014285714285714285 {'algorithm': 'ball_tree', 'n_neighbors': 9, 'weights': 'distance'}\n",
      "0.014285714285714285 {'algorithm': 'kd_tree', 'n_neighbors': 9, 'weights': 'distance'}\n",
      "0.02142857142857143 {'algorithm': 'brute', 'n_neighbors': 9, 'weights': 'distance'}\n",
      "0.02857142857142857 {'algorithm': 'auto', 'n_neighbors': 5, 'weights': 'distance'}\n",
      "0.02857142857142857 {'algorithm': 'auto', 'n_neighbors': 7, 'weights': 'distance'}\n",
      "0.02857142857142857 {'algorithm': 'ball_tree', 'n_neighbors': 5, 'weights': 'distance'}\n",
      "0.02857142857142857 {'algorithm': 'ball_tree', 'n_neighbors': 7, 'weights': 'distance'}\n",
      "0.02857142857142857 {'algorithm': 'kd_tree', 'n_neighbors': 5, 'weights': 'distance'}\n",
      "0.02857142857142857 {'algorithm': 'kd_tree', 'n_neighbors': 7, 'weights': 'distance'}\n",
      "0.028835978835978836 {'algorithm': 'brute', 'n_neighbors': 7, 'weights': 'distance'}\n",
      "0.03571428571428571 {'algorithm': 'brute', 'n_neighbors': 3, 'weights': 'distance'}\n",
      "0.03597883597883598 {'algorithm': 'brute', 'n_neighbors': 5, 'weights': 'distance'}\n",
      "0.06428571428571428 {'algorithm': 'auto', 'n_neighbors': 3, 'weights': 'distance'}\n",
      "0.06428571428571428 {'algorithm': 'ball_tree', 'n_neighbors': 3, 'weights': 'distance'}\n",
      "0.06428571428571428 {'algorithm': 'kd_tree', 'n_neighbors': 3, 'weights': 'distance'}\n",
      "0.1656084656084656 {'algorithm': 'ball_tree', 'n_neighbors': 1, 'weights': 'distance'}\n",
      "0.173015873015873 {'algorithm': 'auto', 'n_neighbors': 1, 'weights': 'distance'}\n",
      "0.173015873015873 {'algorithm': 'kd_tree', 'n_neighbors': 1, 'weights': 'distance'}\n",
      "0.19417989417989417 {'algorithm': 'brute', 'n_neighbors': 1, 'weights': 'distance'}\n"
     ]
    }
   ],
   "source": [
    "# loop that runs all of the possible parameter configurations from the parameter dictionary above\n",
    "for mean_score, params in sorted(list(zip(scores[\"mean_test_score\"], scores[\"params\"])),key = lambda x: x[0]):\n",
    "     print(mean_score, params)"
   ]
  },
  {
   "cell_type": "markdown",
   "metadata": {},
   "source": [
    "### Model 1: K Nearest Neighbors"
   ]
  },
  {
   "cell_type": "code",
   "execution_count": 43,
   "metadata": {},
   "outputs": [],
   "source": [
    "# Create the model\n",
    "n_neighbors = 1\n",
    "knn = KNeighborsClassifier(algorithm='brute', n_neighbors=n_neighbors, weights='distance')\n",
    "\n",
    "# Fit the model with the train data\n",
    "knn.fit(X_train[features], y_train)\n",
    "\n",
    "# Predict the target\n",
    "y_pred_knn = knn.predict(X_train[features])\n",
    "\n",
    "# predict the probability\n",
    "y_pred_proba_knn = knn.predict_proba(X_train[features])"
   ]
  },
  {
   "cell_type": "code",
   "execution_count": 44,
   "metadata": {},
   "outputs": [],
   "source": [
    "# Create confusion matrix, label true positive, true negative, false positive, false negative\n",
    "[tn,fp],[fn, tp] = confusion_matrix(y_train, y_pred_knn)\n",
    "\n",
    "# Calculate the true positive rate, true negative rate, false positive rate, and false negative rate \n",
    "tpr = (tp / (tp+fn))\n",
    "fnr = (fn / (fn+tp))\n",
    "tnr = (tn / (tn+fp))\n",
    "fpr = (fp / (tn+fp))"
   ]
  },
  {
   "cell_type": "code",
   "execution_count": 45,
   "metadata": {},
   "outputs": [
    {
     "name": "stdout",
     "output_type": "stream",
     "text": [
      "The confusion matrix:\n",
      " [[2436  286]\n",
      " [  99   40]]\n",
      "\n",
      "Classificaiton Report:\n",
      "              precision    recall  f1-score   support\n",
      "\n",
      "           0       0.96      0.89      0.93      2722\n",
      "           1       0.12      0.29      0.17       139\n",
      "\n",
      "    accuracy                           0.87      2861\n",
      "   macro avg       0.54      0.59      0.55      2861\n",
      "weighted avg       0.92      0.87      0.89      2861\n",
      "\n",
      "\n",
      "The True Positive Rate is: 28.78%\n",
      "The False Positive Rate is: 10.51%\n",
      "The True Negative Rate is: 89.49%\n",
      "The False Negative Rate is: 71.22%\n",
      "\n",
      "Accuracy of KNN classifier on training set n_neighbors set to 4: 0.87\n",
      "Accuracy of KNN classifier on validate set with n_neighbors set to 4: 0.85\n",
      "\n"
     ]
    }
   ],
   "source": [
    "print(f'The confusion matrix:\\n {confusion_matrix(y_train, y_pred_knn)}\\n')\n",
    "print(f'Classificaiton Report:\\n{classification_report(y_train, y_pred_knn)}\\n')\n",
    "print(f'The True Positive Rate is: {tpr:.2%}')\n",
    "print(f'The False Positive Rate is: {fpr:.2%}')\n",
    "print(f'The True Negative Rate is: {tnr:.2%}')\n",
    "print(f'The False Negative Rate is: {fnr:.2%}\\n')\n",
    "print('Accuracy of KNN classifier on training set n_neighbors set to 4: {:.2f}'\n",
    "     .format(knn.score(X_train[features], y_train)))\n",
    "print('Accuracy of KNN classifier on validate set with n_neighbors set to 4: {:.2f}\\n'\n",
    "     .format(knn.score(X_validate[features], y_validate)))"
   ]
  },
  {
   "cell_type": "markdown",
   "metadata": {},
   "source": [
    "### Model 2: Random Forest"
   ]
  },
  {
   "cell_type": "code",
   "execution_count": 46,
   "metadata": {},
   "outputs": [],
   "source": [
    "# create the random forest model\n",
    "rf = RandomForestClassifier(bootstrap=True, \n",
    "                            n_estimators=50,\n",
    "                            warm_start=True,\n",
    "                            oob_score=True,\n",
    "                            criterion='gini', \n",
    "                            random_state=42)"
   ]
  },
  {
   "cell_type": "code",
   "execution_count": 47,
   "metadata": {},
   "outputs": [],
   "source": [
    "# fit the model with X_train\n",
    "rf.fit(X_train[features], y_train)\n",
    "\n",
    "# Predict the target\n",
    "y_pred_rf = rf.predict(X_train[features])\n",
    "\n",
    "# predict the probability\n",
    "y_pred_proba_rf = rf.predict_proba(X_train[features])"
   ]
  },
  {
   "cell_type": "code",
   "execution_count": 48,
   "metadata": {},
   "outputs": [],
   "source": [
    "# Create confusion matrix, label true positive, true negative, false positive, false negative\n",
    "[tn,fp],[fn, tp] = confusion_matrix(y_train, y_pred_rf)\n",
    "\n",
    "# Calculate the true positive rate, true negative rate, false positive rate, and false negative rate \n",
    "tpr = (tp / (tp+fn))\n",
    "fnr = (fn / (fn+tp))\n",
    "tnr = (tn / (tn+fp))\n",
    "fpr = (fp / (tn+fp))"
   ]
  },
  {
   "cell_type": "code",
   "execution_count": 49,
   "metadata": {},
   "outputs": [
    {
     "name": "stdout",
     "output_type": "stream",
     "text": [
      "\n",
      "The confusion matrix:\n",
      " [[2714    8]\n",
      " [ 124   15]]\n",
      "\n",
      "Classificaiton Report:\n",
      "              precision    recall  f1-score   support\n",
      "\n",
      "           0       0.96      1.00      0.98      2722\n",
      "           1       0.65      0.11      0.19       139\n",
      "\n",
      "    accuracy                           0.95      2861\n",
      "   macro avg       0.80      0.55      0.58      2861\n",
      "weighted avg       0.94      0.95      0.94      2861\n",
      "\n",
      "\n",
      "The True Positive Rate is: 10.79%\n",
      "The False Positive Rate is: 0.29%\n",
      "The True Negative Rate is: 99.71%\n",
      "The False Negative Rate is: 89.21%\n",
      "\n",
      "Accuracy of random forest classifier on training set: 0.95\n",
      "Accuracy of random forest classifier on the validate set: 0.95\n"
     ]
    }
   ],
   "source": [
    "print(f'\\nThe confusion matrix:\\n {confusion_matrix(y_train, y_pred_rf)}\\n')\n",
    "print(f'Classificaiton Report:\\n{classification_report(y_train, y_pred_rf)}\\n')\n",
    "print(f'The True Positive Rate is: {tpr:.2%}')\n",
    "print(f'The False Positive Rate is: {fpr:.2%}')\n",
    "print(f'The True Negative Rate is: {tnr:.2%}')\n",
    "print(f'The False Negative Rate is: {fnr:.2%}\\n')\n",
    "print('Accuracy of random forest classifier on training set: {:.2f}'\n",
    "     .format(rf.score(X_train[features], y_train)))\n",
    "print('Accuracy of random forest classifier on the validate set: {:.2f}'\n",
    "     .format(rf.score(X_validate[features], y_validate)))"
   ]
  },
  {
   "cell_type": "markdown",
   "metadata": {},
   "source": [
    "### Model 3: Decision Tree"
   ]
  },
  {
   "cell_type": "code",
   "execution_count": 50,
   "metadata": {},
   "outputs": [],
   "source": [
    "# Create decision tree model\n",
    "clf = DecisionTreeClassifier(max_depth=7, splitter='random', random_state=42)"
   ]
  },
  {
   "cell_type": "code",
   "execution_count": 51,
   "metadata": {},
   "outputs": [],
   "source": [
    "# fit the model\n",
    "clf = clf.fit(X_train[features], y_train)\n",
    "\n",
    "# predict the target\n",
    "y_pred_clf = clf.predict(X_train[features])\n",
    "\n",
    "# predict the probability\n",
    "y_pred_proba_clf = clf.predict_proba(X_train[features])"
   ]
  },
  {
   "cell_type": "code",
   "execution_count": 52,
   "metadata": {},
   "outputs": [],
   "source": [
    "# Create confusion matrix, label true positive, true negative, false positive, false negative\n",
    "[tn,fp],[fn, tp] = confusion_matrix(y_train, y_pred_clf)\n",
    "\n",
    "# Calculate the true positive rate, true negative rate, false positive rate, and false negative rate \n",
    "tpr = (tp / (tp+fn))\n",
    "fnr = (fn / (fn+tp))\n",
    "tnr = (tn / (tn+fp))\n",
    "fpr = (fp / (tn+fp))"
   ]
  },
  {
   "cell_type": "code",
   "execution_count": 53,
   "metadata": {},
   "outputs": [
    {
     "name": "stdout",
     "output_type": "stream",
     "text": [
      "The confusion matrix:\n",
      " [[2721    1]\n",
      " [ 132    7]]\n",
      "\n",
      "Classificaiton Report:\n",
      "               precision    recall  f1-score   support\n",
      "\n",
      "           0       0.95      1.00      0.98      2722\n",
      "           1       0.88      0.05      0.10       139\n",
      "\n",
      "    accuracy                           0.95      2861\n",
      "   macro avg       0.91      0.52      0.54      2861\n",
      "weighted avg       0.95      0.95      0.93      2861\n",
      "\n",
      "The True Positive Rate is: 5.04%\n",
      "The False Positive Rate is: 0.04%\n",
      "The True Negative Rate is: 99.96%\n",
      "The False Negative Rate is: 94.96%\n",
      "\n",
      "Accuracy of Decision Tree classifier on training set: 0.95\n",
      "\n",
      "Accuracy of Decision Tree classifier on validate set: 0.95\n"
     ]
    }
   ],
   "source": [
    "print(f'The confusion matrix:\\n {confusion_matrix(y_train, y_pred_clf)}\\n')\n",
    "print(f'Classificaiton Report:\\n {classification_report(y_train, y_pred_clf)}')\n",
    "print(f'The True Positive Rate is: {tpr:.2%}')\n",
    "print(f'The False Positive Rate is: {fpr:.2%}')\n",
    "print(f'The True Negative Rate is: {tnr:.2%}')\n",
    "print(f'The False Negative Rate is: {fnr:.2%}\\n')\n",
    "print('Accuracy of Decision Tree classifier on training set: {:.2f}\\n'\n",
    "      .format(clf.score(X_train[features], y_train)))\n",
    "print('Accuracy of Decision Tree classifier on validate set: {:.2f}'\n",
    "     .format(clf.score(X_validate[features], y_validate)))"
   ]
  },
  {
   "cell_type": "markdown",
   "metadata": {},
   "source": [
    "### Model 4: Logistic Regression"
   ]
  },
  {
   "cell_type": "code",
   "execution_count": 54,
   "metadata": {},
   "outputs": [],
   "source": [
    "logit = LogisticRegression(penalty='l2', C=1, class_weight={0: 10, 1: 90}, random_state=42, solver='lbfgs')"
   ]
  },
  {
   "cell_type": "code",
   "execution_count": 55,
   "metadata": {},
   "outputs": [
    {
     "data": {
      "text/plain": [
       "LogisticRegression(C=1, class_weight={0: 10, 1: 90}, random_state=42)"
      ]
     },
     "execution_count": 55,
     "metadata": {},
     "output_type": "execute_result"
    }
   ],
   "source": [
    "logit.fit(X_train[features], y_train)"
   ]
  },
  {
   "cell_type": "code",
   "execution_count": 56,
   "metadata": {},
   "outputs": [
    {
     "name": "stdout",
     "output_type": "stream",
     "text": [
      "Coefficient: \n",
      " [[ 4.89582109e-01  1.02402118e-01 -2.80644637e-01  7.03113077e+00\n",
      "   5.37288473e-03]]\n",
      "Intercept: \n",
      " [-4.73706865]\n"
     ]
    }
   ],
   "source": [
    "print('Coefficient: \\n', logit.coef_)\n",
    "print('Intercept: \\n', logit.intercept_)"
   ]
  },
  {
   "cell_type": "code",
   "execution_count": 57,
   "metadata": {},
   "outputs": [],
   "source": [
    "# predict the target\n",
    "y_pred_log = logit.predict(X_train[features])\n",
    "\n",
    "# predict the probability\n",
    "y_pred_proba_log = logit.predict_proba(X_train[features])"
   ]
  },
  {
   "cell_type": "code",
   "execution_count": 58,
   "metadata": {},
   "outputs": [],
   "source": [
    "# Create confusion matrix, label true positive, true negative, false positive, false negative\n",
    "[tn,fp],[fn, tp] = confusion_matrix(y_train, y_pred_log)\n",
    "\n",
    "# Calculate the true positive rate, true negative rate, false positive rate, and false negative rate \n",
    "tpr = (tp / (tp+fn))\n",
    "fnr = (fn / (fn+tp))\n",
    "tnr = (tn / (tn+fp))\n",
    "fpr = (fp / (tn+fp))"
   ]
  },
  {
   "cell_type": "code",
   "execution_count": null,
   "metadata": {},
   "outputs": [],
   "source": [
    "print('Accuracy of Logistic Regression classifier on training set: {:.2f}\\n'\n",
    "     .format(logit.score(X_train[features], y_train)))\n",
    "print(f'The confusion matrix:\\n {confusion_matrix(y_train, y_pred_log)}\\n')\n",
    "print(f'Classificaiton Report:\\n {classification_report(y_train, y_pred_log)}\\n')\n",
    "print(f'The True Positive Rate is: {tpr:.2%}')\n",
    "print(f'The False Positive Rate is: {fpr:.2%}')\n",
    "print(f'The True Negative Rate is: {tnr:.2%}')\n",
    "print(f'The False Negative Rate is: {fnr:.2%}\\n')\n",
    "print('Accuracy of on training set: {:.2f}'\n",
    "     .format(logit.score(X_train[features], y_train)))\n",
    "print('Accuracy out-of-sample set: {:.2f}'.format(logit.score(X_validate[features], y_validate)))"
   ]
  },
  {
   "cell_type": "markdown",
   "metadata": {
    "toc-hr-collapsed": true
   },
   "source": [
    "# Testing the Model"
   ]
  },
  {
   "cell_type": "markdown",
   "metadata": {},
   "source": [
    "### KNN Model had the best fit\n",
    "\n",
    "- Hyperparameters:\n",
    "    - algorithm='brute' \n",
    "    - n_neighbors=1\n",
    "    - weights='distance'"
   ]
  },
  {
   "cell_type": "code",
   "execution_count": 64,
   "metadata": {},
   "outputs": [
    {
     "name": "stdout",
     "output_type": "stream",
     "text": [
      "My baseline accuracy is: 95.14%\n",
      "\n",
      "Accuracy of on training set: 0.87\n",
      "Accuracy out-of-sample validation set: 0.85\n",
      "Accuracy out-of-sample test set: 0.84\n",
      "\n",
      "The confusion matrix:\n",
      " [[2436  286]\n",
      " [  99   40]]\n",
      "\n",
      "Classificaiton Report:\n",
      "              precision    recall  f1-score   support\n",
      "\n",
      "           0       0.96      0.89      0.93      2722\n",
      "           1       0.12      0.29      0.17       139\n",
      "\n",
      "    accuracy                           0.87      2861\n",
      "   macro avg       0.54      0.59      0.55      2861\n",
      "weighted avg       0.92      0.87      0.89      2861\n",
      "\n",
      "\n"
     ]
    }
   ],
   "source": [
    "\n",
    "\n",
    "print(f'My baseline accuracy is: {baseline_accuracy:.2%}\\n')\n",
    "\n",
    "print('Accuracy of on training set: {:.2f}'\n",
    "     .format(knn.score(X_train[features], y_train)))\n",
    "print('Accuracy out-of-sample validation set: {:.2f}'.format(knn.score(X_validate[features], y_validate)))\n",
    "print('Accuracy out-of-sample test set: {:.2f}\\n'.format(knn.score(X_test[features], y_test)))\n",
    "\n",
    "\n",
    "print(f'The confusion matrix:\\n {confusion_matrix(y_train, y_pred_knn)}\\n')\n",
    "print(f'Classificaiton Report:\\n{classification_report(y_train, y_pred_knn)}\\n')\n"
   ]
  },
  {
   "cell_type": "markdown",
   "metadata": {
    "toc-hr-collapsed": true
   },
   "source": [
    "# Model Summary\n",
    "- My models performed pretty poorly\n",
    "- The imbalanced data set did not provide enough Stroke positive people to analyze thus making it difficult to see what is happeneing\n",
    "\n",
    "## Best Model\n",
    "- Because Recall is the most important scoring metric, The KNN is the best performing model\n",
    "- The downfall of recall being the most important metric for modeling is that the precision is generaly negatively affected. \n",
    "- Accuracy decreased from 95% to 84%, and the Recall achieved a 29%"
   ]
  },
  {
   "cell_type": "markdown",
   "metadata": {
    "toc-hr-collapsed": true
   },
   "source": [
    "# Conclusion\n",
    "\n",
    "With the current dataset, predicting stroke is extremely difficult. When I completed modeling of this data, I realized that finding a really good solution is problematic for a couple reasons.\n",
    "1. The dataset is far too small. If stroke is the worlds 2<sup>nd</sup> leading cause of death, there should be much more informaiton available. \n",
    "2. This dataset is far too imbalanced for a good machine learning algorithm to analyze.\n",
    "    a. When imblearn is applied the dataset drops from 5000 records to 300. \n",
    "\n",
    "What can be done to make this project better?\n",
    "Collect more stroke victim data, perhaps conducting a large study to gather more patients' data and more data points like family history, blood disorders, etc."
   ]
  },
  {
   "cell_type": "code",
   "execution_count": null,
   "metadata": {},
   "outputs": [],
   "source": []
  }
 ],
 "metadata": {
  "kernelspec": {
   "display_name": "Python 3",
   "language": "python",
   "name": "python3"
  },
  "language_info": {
   "codemirror_mode": {
    "name": "ipython",
    "version": 3
   },
   "file_extension": ".py",
   "mimetype": "text/x-python",
   "name": "python",
   "nbconvert_exporter": "python",
   "pygments_lexer": "ipython3",
   "version": "3.8.5"
  },
  "toc-autonumbering": false,
  "toc-showtags": true
 },
 "nbformat": 4,
 "nbformat_minor": 4
}
